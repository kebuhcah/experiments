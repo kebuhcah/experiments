{
 "cells": [
  {
   "cell_type": "code",
   "execution_count": 4,
   "id": "db51ed1c",
   "metadata": {},
   "outputs": [],
   "source": [
    "import fasttext\n",
    "import fasttext.util\n",
    "\n",
    "fasttext.util.download_model('ko', if_exists='ignore') \n",
    "\n",
    "ft = fasttext.load_model('cc.ko.300.bin')"
   ]
  },
  {
   "cell_type": "code",
   "execution_count": 12,
   "id": "9126ca96",
   "metadata": {},
   "outputs": [
    {
     "data": {
      "text/plain": [
       "[(0.6525251865386963, '장화신은'),\n",
       " (0.596001923084259, '고양이가'),\n",
       " (0.5934581160545349, '강아지'),\n",
       " (0.5863706469535828, '삼색털'),\n",
       " (0.5840409398078918, '고양이와'),\n",
       " (0.5808069109916687, '캐터리'),\n",
       " (0.5766245126724243, '965252'),\n",
       " (0.5614955425262451, '고양이를'),\n",
       " (0.5534350275993347, '고양이는'),\n",
       " (0.5476795434951782, '고양이집사')]"
      ]
     },
     "execution_count": 12,
     "metadata": {},
     "output_type": "execute_result"
    }
   ],
   "source": [
    "ft.get_nearest_neighbors('고양이')"
   ]
  }
 ],
 "metadata": {
  "kernelspec": {
   "display_name": "Python 3 (ipykernel)",
   "language": "python",
   "name": "python3"
  },
  "language_info": {
   "codemirror_mode": {
    "name": "ipython",
    "version": 3
   },
   "file_extension": ".py",
   "mimetype": "text/x-python",
   "name": "python",
   "nbconvert_exporter": "python",
   "pygments_lexer": "ipython3",
   "version": "3.9.7"
  }
 },
 "nbformat": 4,
 "nbformat_minor": 5
}
