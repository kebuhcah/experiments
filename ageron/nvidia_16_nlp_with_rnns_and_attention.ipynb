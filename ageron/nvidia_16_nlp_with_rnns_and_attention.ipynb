{
 "cells": [
  {
   "cell_type": "code",
   "execution_count": 1,
   "id": "74bbb4dd",
   "metadata": {},
   "outputs": [
    {
     "name": "stdout",
     "output_type": "stream",
     "text": [
      "Available GPUs: [PhysicalDevice(name='/physical_device:GPU:0', device_type='GPU')]\n"
     ]
    }
   ],
   "source": [
    "import tensorflow as tf\n",
    "\n",
    "gpus = tf.config.experimental.list_physical_devices('GPU')\n",
    "if len(gpus) > 0 : print('Available GPUs: {}'.format(gpus))\n",
    "else             : print('!!! No GPUs found !!!')"
   ]
  },
  {
   "cell_type": "code",
   "execution_count": 2,
   "id": "f4f3c17a",
   "metadata": {},
   "outputs": [],
   "source": [
    "# https://github.com/ageron/handson-ml2/blob/master/16_nlp_with_rnns_and_attention.ipynb\n",
    "\n",
    "# Python ≥3.5 is required\n",
    "import sys\n",
    "assert sys.version_info >= (3, 5)\n",
    "\n",
    "# Is this notebook running on Colab or Kaggle?\n",
    "IS_COLAB = \"google.colab\" in sys.modules\n",
    "IS_KAGGLE = \"kaggle_secrets\" in sys.modules\n",
    "\n",
    "if IS_COLAB:\n",
    "    %pip install -q -U tensorflow-addons\n",
    "    %pip install -q -U transformers\n",
    "\n",
    "# Scikit-Learn ≥0.20 is required\n",
    "import sklearn\n",
    "assert sklearn.__version__ >= \"0.20\"\n",
    "\n",
    "# TensorFlow ≥2.0 is required\n",
    "import tensorflow as tf\n",
    "from tensorflow import keras\n",
    "assert tf.__version__ >= \"2.0\"\n",
    "\n",
    "if not tf.config.list_physical_devices('GPU'):\n",
    "    print(\"No GPU was detected. LSTMs and CNNs can be very slow without a GPU.\")\n",
    "    if IS_COLAB:\n",
    "        print(\"Go to Runtime > Change runtime and select a GPU hardware accelerator.\")\n",
    "    if IS_KAGGLE:\n",
    "        print(\"Go to Settings > Accelerator and select GPU.\")\n",
    "\n",
    "# Common imports\n",
    "import numpy as np\n",
    "import os\n",
    "\n",
    "# to make this notebook's output stable across runs\n",
    "np.random.seed(42)\n",
    "tf.random.set_seed(42)\n",
    "\n",
    "# To plot pretty figures\n",
    "%matplotlib inline\n",
    "import matplotlib as mpl\n",
    "import matplotlib.pyplot as plt\n",
    "mpl.rc('axes', labelsize=14)\n",
    "mpl.rc('xtick', labelsize=12)\n",
    "mpl.rc('ytick', labelsize=12)\n",
    "\n",
    "# Where to save the figures\n",
    "PROJECT_ROOT_DIR = \".\"\n",
    "CHAPTER_ID = \"nlp\"\n",
    "IMAGES_PATH = os.path.join(PROJECT_ROOT_DIR, \"images\", CHAPTER_ID)\n",
    "os.makedirs(IMAGES_PATH, exist_ok=True)\n",
    "\n",
    "def save_fig(fig_id, tight_layout=True, fig_extension=\"png\", resolution=300):\n",
    "    path = os.path.join(IMAGES_PATH, fig_id + \".\" + fig_extension)\n",
    "    print(\"Saving figure\", fig_id)\n",
    "    if tight_layout:\n",
    "        plt.tight_layout()\n",
    "    plt.savefig(path, format=fig_extension, dpi=resolution)"
   ]
  },
  {
   "cell_type": "code",
   "execution_count": 3,
   "id": "c919eaa7",
   "metadata": {},
   "outputs": [],
   "source": [
    "shakespeare_url = \"https://raw.githubusercontent.com/karpathy/char-rnn/master/data/tinyshakespeare/input.txt\"\n",
    "filepath = keras.utils.get_file(\"shakespeare.txt\", shakespeare_url)\n",
    "with open(filepath) as f:\n",
    "    shakespeare_text = f.read()"
   ]
  },
  {
   "cell_type": "code",
   "execution_count": 4,
   "id": "4780eba2",
   "metadata": {},
   "outputs": [
    {
     "name": "stdout",
     "output_type": "stream",
     "text": [
      "First Citizen:\n",
      "Before we proceed any further, hear me speak.\n",
      "\n",
      "All:\n",
      "Speak, speak.\n",
      "\n",
      "First Citizen:\n",
      "You are all resolved rather to die than to famish?\n",
      "\n"
     ]
    }
   ],
   "source": [
    "print(shakespeare_text[:148])"
   ]
  },
  {
   "cell_type": "code",
   "execution_count": 5,
   "id": "189ca5ab",
   "metadata": {},
   "outputs": [],
   "source": [
    "tokenizer = keras.preprocessing.text.Tokenizer(char_level=True)\n",
    "tokenizer.fit_on_texts(shakespeare_text)"
   ]
  },
  {
   "cell_type": "code",
   "execution_count": 6,
   "id": "afa4b37e",
   "metadata": {},
   "outputs": [
    {
     "name": "stdout",
     "output_type": "stream",
     "text": [
      "39\n",
      "1115394\n"
     ]
    }
   ],
   "source": [
    "max_id = len(tokenizer.word_index) # number of distinct characters\n",
    "print(max_id)\n",
    "\n",
    "\n",
    "dataset_size = tokenizer.document_count # total number of characters\n",
    "print(dataset_size)"
   ]
  },
  {
   "cell_type": "code",
   "execution_count": 7,
   "id": "ce2ad192",
   "metadata": {},
   "outputs": [],
   "source": [
    "[encoded] = np.array(tokenizer.texts_to_sequences([shakespeare_text])) - 1\n",
    "train_size = dataset_size * 90 // 100\n",
    "dataset = tf.data.Dataset.from_tensor_slices(encoded[:train_size])"
   ]
  },
  {
   "cell_type": "code",
   "execution_count": 8,
   "id": "c963b820",
   "metadata": {},
   "outputs": [],
   "source": [
    "n_steps = 100\n",
    "window_length = n_steps + 1 # target = input shifted 1 character ahead\n",
    "dataset = dataset.window(window_length, shift=1, drop_remainder=True)"
   ]
  },
  {
   "cell_type": "code",
   "execution_count": 9,
   "id": "0abf6180",
   "metadata": {},
   "outputs": [],
   "source": [
    "dataset = dataset.flat_map(lambda window: window.batch(window_length))"
   ]
  },
  {
   "cell_type": "code",
   "execution_count": 10,
   "id": "659d89d8",
   "metadata": {},
   "outputs": [
    {
     "name": "stdout",
     "output_type": "stream",
     "text": [
      "(32, 100, 39) (32, 100)\n"
     ]
    }
   ],
   "source": [
    "np.random.seed(42)\n",
    "tf.random.set_seed(42)\n",
    "\n",
    "batch_size = 32\n",
    "dataset = dataset.shuffle(10000).batch(batch_size)\n",
    "dataset = dataset.map(lambda windows: (windows[:, :-1], windows[:, 1:]))\n",
    "\n",
    "dataset = dataset.map(\n",
    "    lambda X_batch, Y_batch: (tf.one_hot(X_batch, depth=max_id), Y_batch))\n",
    "\n",
    "dataset = dataset.prefetch(1)\n",
    "\n",
    "for X_batch, Y_batch in dataset.take(1):\n",
    "    print(X_batch.shape, Y_batch.shape)"
   ]
  },
  {
   "cell_type": "code",
   "execution_count": 11,
   "id": "fed30480",
   "metadata": {},
   "outputs": [
    {
     "name": "stdout",
     "output_type": "stream",
     "text": [
      "Epoch 1/20\n",
      "31368/31368 [==============================] - 336s 11ms/step - loss: 1.6206\n",
      "Epoch 2/20\n",
      "31368/31368 [==============================] - 333s 11ms/step - loss: 1.5371\n",
      "Epoch 3/20\n",
      "31368/31368 [==============================] - 332s 11ms/step - loss: 1.5165\n",
      "Epoch 4/20\n",
      "31368/31368 [==============================] - 333s 11ms/step - loss: 1.5056\n",
      "Epoch 5/20\n",
      "31368/31368 [==============================] - 332s 11ms/step - loss: 1.4983\n",
      "Epoch 6/20\n",
      "31368/31368 [==============================] - 334s 11ms/step - loss: 1.4926\n",
      "Epoch 7/20\n",
      "31368/31368 [==============================] - 330s 11ms/step - loss: 1.4891\n",
      "Epoch 8/20\n",
      "31368/31368 [==============================] - 328s 10ms/step - loss: 1.4862\n",
      "Epoch 9/20\n",
      "31368/31368 [==============================] - 331s 11ms/step - loss: 1.4842\n",
      "Epoch 10/20\n",
      "31368/31368 [==============================] - 334s 11ms/step - loss: 1.4821\n",
      "Epoch 11/20\n",
      "31368/31368 [==============================] - 329s 10ms/step - loss: 1.4809\n",
      "Epoch 12/20\n",
      "31368/31368 [==============================] - 328s 10ms/step - loss: 1.4798\n",
      "Epoch 13/20\n",
      "31368/31368 [==============================] - 331s 11ms/step - loss: 1.4787\n",
      "Epoch 14/20\n",
      "31368/31368 [==============================] - 335s 11ms/step - loss: 1.4773\n",
      "Epoch 15/20\n",
      "31368/31368 [==============================] - 332s 11ms/step - loss: 1.4764\n",
      "Epoch 16/20\n",
      "31368/31368 [==============================] - 334s 11ms/step - loss: 1.4756\n",
      "Epoch 17/20\n",
      "31368/31368 [==============================] - 333s 11ms/step - loss: 1.4747\n",
      "Epoch 18/20\n",
      "31368/31368 [==============================] - 334s 11ms/step - loss: 1.4747\n",
      "Epoch 19/20\n",
      "31368/31368 [==============================] - 332s 11ms/step - loss: 1.4742\n",
      "Epoch 20/20\n",
      "31368/31368 [==============================] - 333s 11ms/step - loss: 1.4738\n"
     ]
    }
   ],
   "source": [
    "model = keras.models.Sequential([\n",
    "    keras.layers.GRU(128, return_sequences=True, input_shape=[None, max_id],\n",
    "                     #dropout=0.2, recurrent_dropout=0.2),\n",
    "                     dropout=0.2),\n",
    "    keras.layers.GRU(128, return_sequences=True,\n",
    "                     #dropout=0.2, recurrent_dropout=0.2),\n",
    "                     dropout=0.2),\n",
    "    keras.layers.TimeDistributed(keras.layers.Dense(max_id,\n",
    "                                                    activation=\"softmax\"))\n",
    "])\n",
    "model.compile(loss=\"sparse_categorical_crossentropy\", optimizer=\"adam\")\n",
    "history = model.fit(dataset, epochs=20)"
   ]
  },
  {
   "cell_type": "code",
   "execution_count": 12,
   "id": "77926c3c",
   "metadata": {},
   "outputs": [
    {
     "name": "stderr",
     "output_type": "stream",
     "text": [
      "WARNING:absl:Found untraced functions such as gru_cell_layer_call_fn, gru_cell_layer_call_and_return_conditional_losses, gru_cell_1_layer_call_fn, gru_cell_1_layer_call_and_return_conditional_losses, gru_cell_layer_call_fn while saving (showing 5 of 10). These functions will not be directly callable after loading.\n"
     ]
    },
    {
     "name": "stdout",
     "output_type": "stream",
     "text": [
      "INFO:tensorflow:Assets written to: ./shakespeare_rnn_3/assets\n"
     ]
    },
    {
     "name": "stderr",
     "output_type": "stream",
     "text": [
      "INFO:tensorflow:Assets written to: ./shakespeare_rnn_3/assets\n"
     ]
    }
   ],
   "source": [
    "model.save('./shakespeare_rnn_3/')"
   ]
  },
  {
   "cell_type": "code",
   "execution_count": 13,
   "id": "305c6f29",
   "metadata": {},
   "outputs": [
    {
     "data": {
      "image/png": "[encoded data removed]",
      "text/plain": [
       "<Figure size 432x288 with 1 Axes>"
      ]
     },
     "metadata": {
      "needs_background": "light"
     },
     "output_type": "display_data"
    }
   ],
   "source": [
    "def plot_learning_curves(loss):\n",
    "    plt.plot(np.arange(len(loss)) + 0.5, loss, \"b.-\", label=\"Training loss\")\n",
    "    \n",
    "plot_learning_curves(history.history[\"loss\"])\n",
    "plt.show()"
   ]
  },
  {
   "cell_type": "code",
   "execution_count": 14,
   "id": "fa17c957",
   "metadata": {},
   "outputs": [],
   "source": [
    "def preprocess(texts):\n",
    "    X = np.array(tokenizer.texts_to_sequences(texts)) - 1\n",
    "    return tf.one_hot(X, max_id)"
   ]
  },
  {
   "cell_type": "code",
   "execution_count": 15,
   "id": "65043d7d",
   "metadata": {},
   "outputs": [
    {
     "data": {
      "text/plain": [
       "'u'"
      ]
     },
     "execution_count": 15,
     "metadata": {},
     "output_type": "execute_result"
    }
   ],
   "source": [
    "X_new = preprocess([\"How are yo\"])\n",
    "#Y_pred = model.predict_classes(X_new)\n",
    "Y_pred = np.argmax(model(X_new), axis=-1)\n",
    "tokenizer.sequences_to_texts(Y_pred + 1)[0][-1] # 1st sentence, last char"
   ]
  },
  {
   "cell_type": "code",
   "execution_count": 16,
   "id": "0314276d",
   "metadata": {},
   "outputs": [],
   "source": [
    "def next_char(text, temperature=1):\n",
    "    X_new = preprocess([text])\n",
    "    y_proba = model(X_new)[0, -1:, :]\n",
    "    rescaled_logits = tf.math.log(y_proba) / temperature\n",
    "    char_id = tf.random.categorical(rescaled_logits, num_samples=1) + 1\n",
    "    return tokenizer.sequences_to_texts(char_id.numpy())[0]"
   ]
  },
  {
   "cell_type": "code",
   "execution_count": 17,
   "id": "ff5eaabb",
   "metadata": {},
   "outputs": [
    {
     "data": {
      "text/plain": [
       "'u'"
      ]
     },
     "execution_count": 17,
     "metadata": {},
     "output_type": "execute_result"
    }
   ],
   "source": [
    "tf.random.set_seed(42)\n",
    "\n",
    "next_char(\"How are yo\", temperature=1)"
   ]
  },
  {
   "cell_type": "code",
   "execution_count": 18,
   "id": "462fe897",
   "metadata": {},
   "outputs": [],
   "source": [
    "def complete_text(text, n_chars=50, temperature=1):\n",
    "    for _ in range(n_chars):\n",
    "        text += next_char(text, temperature)\n",
    "    return text"
   ]
  },
  {
   "cell_type": "code",
   "execution_count": 19,
   "id": "c9d05c15",
   "metadata": {},
   "outputs": [
    {
     "name": "stdout",
     "output_type": "stream",
     "text": [
      "ther will i know my hands.\n",
      "\n",
      "gremio:\n",
      "i will not swea\n"
     ]
    }
   ],
   "source": [
    "tf.random.set_seed(42)\n",
    "\n",
    "print(complete_text(\"t\", temperature=0.2))"
   ]
  },
  {
   "cell_type": "code",
   "execution_count": 33,
   "id": "63cb0fac",
   "metadata": {},
   "outputs": [
    {
     "name": "stdout",
     "output_type": "stream",
     "text": [
      "tokecome\n",
      "i hear in poble contributoro,\n",
      "though be al\n"
     ]
    }
   ],
   "source": [
    "print(complete_text(\"t\", temperature=1))"
   ]
  },
  {
   "cell_type": "code",
   "execution_count": 20,
   "id": "b657db4e",
   "metadata": {},
   "outputs": [
    {
     "name": "stdout",
     "output_type": "stream",
     "text": [
      "tokcc ba\n",
      "do;'ard.\n",
      "you jance, crack jolnins! urdelly\n"
     ]
    }
   ],
   "source": [
    "print(complete_text(\"t\", temperature=2))"
   ]
  },
  {
   "cell_type": "code",
   "execution_count": 21,
   "id": "1507ada1",
   "metadata": {},
   "outputs": [
    {
     "name": "stdout",
     "output_type": "stream",
     "text": [
      "ther will have the man\n",
      "and be a scolding of a scolding of my elf,\n",
      "and so we may be to be to be to her as a scolding of a scolding of a scolding scolding scolding than any offence that she is a sweet scolding of a scolding of a scolding tongue.\n",
      "\n",
      "tranio:\n",
      "o this is the matter? what shall i be gone.\n",
      "\n",
      "grumio:\n",
      "will i be gone, and my good father is the man\n",
      "as i shall be a store and beauteous first.\n",
      "\n",
      "grumio:\n",
      "master, i will prove the world,\n",
      "to make a scolding of a scolding of a scolding of a scolding tongue.\n",
      "\n",
      "tranio:\n",
      "i shall be so beloved to her to see\n",
      "and so will be in all the rest,\n",
      "and therefore that you may be gone.\n",
      "\n",
      "hortensio:\n",
      "what, i will not be in a lawful will,\n",
      "and if you have a scolding of a scolding of the world,\n",
      "that i may be to be the mand in her thee that a word,\n",
      "that i may be so beauteous for my elf,\n",
      "so well i see the world, that i do see thee with a little great and man\n",
      "and be a suitors to be wooed and best and beauteous face,\n",
      "and not to make a bind of such a scolding state,\n",
      "and so and so will have a store and beauteous fortune to any hands of man\n",
      "and so be contrived and so and therefore the matter for my daughter\n",
      "for my father for my father will be old and so to her and man\n",
      "and be a little comes to her and for my house.\n",
      "\n",
      "gremio:\n",
      "what shall you not say, i will not swear i have and men\n",
      "and so in padua and a scolding scolding of my father will be wooing to her and beauteous fortune have\n",
      "to see my father for the house of signior hortensio.\n",
      "\n",
      "tranio:\n",
      "what, i will not be gone?\n",
      "\n",
      "tranio:\n",
      "i say, sir, i will not be so beloved to her.\n",
      "\n",
      "hortensio:\n",
      "i will not be both beauteous man\n",
      "for a little gremio in a storemand to her and leave and love in padua.\n",
      "\n",
      "hortensio:\n",
      "sir, i will not be well and leave the scolding scolding scolding sister fair\n",
      "and seen and so in her that she shall have you all the rest\n",
      "and well i see the hather whom you will be wooing.\n",
      "\n",
      "tranio:\n",
      "what, i will not be gone, and if you have a scolding of a word,\n",
      "that i do come to her and beauteous fortune with a word,\n",
      "\n"
     ]
    }
   ],
   "source": [
    "print(complete_text(\"t\", temperature=0.25, n_chars=2000))"
   ]
  }
 ],
 "metadata": {
  "kernelspec": {
   "display_name": "tf-gpu",
   "language": "python",
   "name": "tf-gpu"
  },
  "language_info": {
   "codemirror_mode": {
    "name": "ipython",
    "version": 3
   },
   "file_extension": ".py",
   "mimetype": "text/x-python",
   "name": "python",
   "nbconvert_exporter": "python",
   "pygments_lexer": "ipython3",
   "version": "3.7.11"
  }
 },
 "nbformat": 4,
 "nbformat_minor": 5
}
