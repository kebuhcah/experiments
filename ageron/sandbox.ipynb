{
 "cells": [
  {
   "cell_type": "code",
   "execution_count": 2,
   "id": "3a32a8bb",
   "metadata": {},
   "outputs": [],
   "source": [
    "import numpy as np"
   ]
  },
  {
   "cell_type": "code",
   "execution_count": 2,
   "id": "8b3556d5",
   "metadata": {},
   "outputs": [
    {
     "data": {
      "text/plain": [
       "array([1, 2, 3, 0, 0, 4, 5, 6])"
      ]
     },
     "execution_count": 2,
     "metadata": {},
     "output_type": "execute_result"
    }
   ],
   "source": [
    "np.r_[np.array([1,2,3]), 0, 0, np.array([4,5,6])]"
   ]
  },
  {
   "cell_type": "code",
   "execution_count": 8,
   "id": "89b64243",
   "metadata": {},
   "outputs": [
    {
     "data": {
      "text/plain": [
       "array([[1, 2, 3],\n",
       "       [4, 5, 6]])"
      ]
     },
     "execution_count": 8,
     "metadata": {},
     "output_type": "execute_result"
    }
   ],
   "source": [
    "np.r_['0,2', [1,2,3], [4,5,6]]"
   ]
  },
  {
   "cell_type": "code",
   "execution_count": 14,
   "id": "ef73a924",
   "metadata": {},
   "outputs": [
    {
     "data": {
      "text/plain": [
       "array([[1, 4],\n",
       "       [2, 5],\n",
       "       [3, 6]])"
      ]
     },
     "execution_count": 14,
     "metadata": {},
     "output_type": "execute_result"
    }
   ],
   "source": [
    "np.r_['1,2,0', [1,2,3], [4,5,6]]"
   ]
  },
  {
   "cell_type": "code",
   "execution_count": 15,
   "id": "c1ffbbea",
   "metadata": {},
   "outputs": [
    {
     "data": {
      "text/plain": [
       "array([[ 0,  1,  2,  3,  4,  5,  6],\n",
       "       [ 7,  8,  9, 10, 11, 12, 13],\n",
       "       [14, 15, 16, 17, 18, 19, 20],\n",
       "       [21, 22, 23, 24, 25, 26, 27],\n",
       "       [28, 29, 30, 31, 32, 33, 34]])"
      ]
     },
     "execution_count": 15,
     "metadata": {},
     "output_type": "execute_result"
    }
   ],
   "source": [
    "y = np.arange(35).reshape(5,7)\n",
    "y"
   ]
  },
  {
   "cell_type": "code",
   "execution_count": 16,
   "id": "5ec55f96",
   "metadata": {},
   "outputs": [
    {
     "data": {
      "text/plain": [
       "array([[ 7, 10, 13],\n",
       "       [21, 24, 27]])"
      ]
     },
     "execution_count": 16,
     "metadata": {},
     "output_type": "execute_result"
    }
   ],
   "source": [
    "y[1:5:2,::3]"
   ]
  },
  {
   "cell_type": "code",
   "execution_count": 17,
   "id": "583de2ce",
   "metadata": {},
   "outputs": [
    {
     "data": {
      "text/plain": [
       "array([ 0, 15, 30])"
      ]
     },
     "execution_count": 17,
     "metadata": {},
     "output_type": "execute_result"
    }
   ],
   "source": [
    "y[np.array([0,2,4]), np.array([0,1,2])]"
   ]
  },
  {
   "cell_type": "code",
   "execution_count": 20,
   "id": "07ba65bc",
   "metadata": {},
   "outputs": [
    {
     "data": {
      "text/plain": [
       "array([[ 2,  4],\n",
       "       [15, 20]])"
      ]
     },
     "execution_count": 20,
     "metadata": {},
     "output_type": "execute_result"
    }
   ],
   "source": [
    "np.array([[2, 0], [0, 5]]) @ np.array([[1, 2], [3, 4]])"
   ]
  },
  {
   "cell_type": "code",
   "execution_count": 22,
   "id": "38122006",
   "metadata": {},
   "outputs": [
    {
     "data": {
      "text/plain": [
       "array([[[[ 0,  1,  2],\n",
       "         [ 3,  4,  5],\n",
       "         [ 6,  7,  8]],\n",
       "\n",
       "        [[ 9, 10, 11],\n",
       "         [12, 13, 14],\n",
       "         [15, 16, 17]],\n",
       "\n",
       "        [[18, 19, 20],\n",
       "         [21, 22, 23],\n",
       "         [24, 25, 26]]],\n",
       "\n",
       "\n",
       "       [[[27, 28, 29],\n",
       "         [30, 31, 32],\n",
       "         [33, 34, 35]],\n",
       "\n",
       "        [[36, 37, 38],\n",
       "         [39, 40, 41],\n",
       "         [42, 43, 44]],\n",
       "\n",
       "        [[45, 46, 47],\n",
       "         [48, 49, 50],\n",
       "         [51, 52, 53]]],\n",
       "\n",
       "\n",
       "       [[[54, 55, 56],\n",
       "         [57, 58, 59],\n",
       "         [60, 61, 62]],\n",
       "\n",
       "        [[63, 64, 65],\n",
       "         [66, 67, 68],\n",
       "         [69, 70, 71]],\n",
       "\n",
       "        [[72, 73, 74],\n",
       "         [75, 76, 77],\n",
       "         [78, 79, 80]]]])"
      ]
     },
     "execution_count": 22,
     "metadata": {},
     "output_type": "execute_result"
    }
   ],
   "source": [
    "z = np.arange(81).reshape(3,3,3,3)\n",
    "z"
   ]
  },
  {
   "cell_type": "code",
   "execution_count": 8,
   "id": "2b934c44",
   "metadata": {},
   "outputs": [
    {
     "data": {
      "text/plain": [
       "array([[ 0,  0,  0,  0,  0],\n",
       "       [ 0,  1,  2,  3,  4],\n",
       "       [ 0,  2,  4,  6,  8],\n",
       "       [ 0,  3,  6,  9, 12],\n",
       "       [ 0,  4,  8, 12, 16]])"
      ]
     },
     "execution_count": 8,
     "metadata": {},
     "output_type": "execute_result"
    }
   ],
   "source": [
    "a = np.arange(5)\n",
    "b = a.reshape(1,5)\n",
    "\n",
    "b.T * b"
   ]
  },
  {
   "cell_type": "code",
   "execution_count": 12,
   "id": "c1cbbc8d",
   "metadata": {
    "scrolled": true
   },
   "outputs": [
    {
     "data": {
      "text/plain": [
       "array([[-5.00000000e+00],\n",
       "       [-4.90000000e+00],\n",
       "       [-4.80000000e+00],\n",
       "       [-4.70000000e+00],\n",
       "       [-4.60000000e+00],\n",
       "       [-4.50000000e+00],\n",
       "       [-4.40000000e+00],\n",
       "       [-4.30000000e+00],\n",
       "       [-4.20000000e+00],\n",
       "       [-4.10000000e+00],\n",
       "       [-4.00000000e+00],\n",
       "       [-3.90000000e+00],\n",
       "       [-3.80000000e+00],\n",
       "       [-3.70000000e+00],\n",
       "       [-3.60000000e+00],\n",
       "       [-3.50000000e+00],\n",
       "       [-3.40000000e+00],\n",
       "       [-3.30000000e+00],\n",
       "       [-3.20000000e+00],\n",
       "       [-3.10000000e+00],\n",
       "       [-3.00000000e+00],\n",
       "       [-2.90000000e+00],\n",
       "       [-2.80000000e+00],\n",
       "       [-2.70000000e+00],\n",
       "       [-2.60000000e+00],\n",
       "       [-2.50000000e+00],\n",
       "       [-2.40000000e+00],\n",
       "       [-2.30000000e+00],\n",
       "       [-2.20000000e+00],\n",
       "       [-2.10000000e+00],\n",
       "       [-2.00000000e+00],\n",
       "       [-1.90000000e+00],\n",
       "       [-1.80000000e+00],\n",
       "       [-1.70000000e+00],\n",
       "       [-1.60000000e+00],\n",
       "       [-1.50000000e+00],\n",
       "       [-1.40000000e+00],\n",
       "       [-1.30000000e+00],\n",
       "       [-1.20000000e+00],\n",
       "       [-1.10000000e+00],\n",
       "       [-1.00000000e+00],\n",
       "       [-9.00000000e-01],\n",
       "       [-8.00000000e-01],\n",
       "       [-7.00000000e-01],\n",
       "       [-6.00000000e-01],\n",
       "       [-5.00000000e-01],\n",
       "       [-4.00000000e-01],\n",
       "       [-3.00000000e-01],\n",
       "       [-2.00000000e-01],\n",
       "       [-1.00000000e-01],\n",
       "       [-1.77635684e-14],\n",
       "       [ 1.00000000e-01],\n",
       "       [ 2.00000000e-01],\n",
       "       [ 3.00000000e-01],\n",
       "       [ 4.00000000e-01],\n",
       "       [ 5.00000000e-01],\n",
       "       [ 6.00000000e-01],\n",
       "       [ 7.00000000e-01],\n",
       "       [ 8.00000000e-01],\n",
       "       [ 9.00000000e-01],\n",
       "       [ 1.00000000e+00],\n",
       "       [ 1.10000000e+00],\n",
       "       [ 1.20000000e+00],\n",
       "       [ 1.30000000e+00],\n",
       "       [ 1.40000000e+00],\n",
       "       [ 1.50000000e+00],\n",
       "       [ 1.60000000e+00],\n",
       "       [ 1.70000000e+00],\n",
       "       [ 1.80000000e+00],\n",
       "       [ 1.90000000e+00],\n",
       "       [ 2.00000000e+00],\n",
       "       [ 2.10000000e+00],\n",
       "       [ 2.20000000e+00],\n",
       "       [ 2.30000000e+00],\n",
       "       [ 2.40000000e+00],\n",
       "       [ 2.50000000e+00],\n",
       "       [ 2.60000000e+00],\n",
       "       [ 2.70000000e+00],\n",
       "       [ 2.80000000e+00],\n",
       "       [ 2.90000000e+00],\n",
       "       [ 3.00000000e+00],\n",
       "       [ 3.10000000e+00],\n",
       "       [ 3.20000000e+00],\n",
       "       [ 3.30000000e+00],\n",
       "       [ 3.40000000e+00],\n",
       "       [ 3.50000000e+00],\n",
       "       [ 3.60000000e+00],\n",
       "       [ 3.70000000e+00],\n",
       "       [ 3.80000000e+00],\n",
       "       [ 3.90000000e+00],\n",
       "       [ 4.00000000e+00],\n",
       "       [ 4.10000000e+00],\n",
       "       [ 4.20000000e+00],\n",
       "       [ 4.30000000e+00],\n",
       "       [ 4.40000000e+00],\n",
       "       [ 4.50000000e+00],\n",
       "       [ 4.60000000e+00],\n",
       "       [ 4.70000000e+00],\n",
       "       [ 4.80000000e+00],\n",
       "       [ 4.90000000e+00]])"
      ]
     },
     "execution_count": 12,
     "metadata": {},
     "output_type": "execute_result"
    }
   ],
   "source": [
    "x = np.arange(-5, 5, 0.1)\n",
    "y = np.arange(-5, 5, 0.1)\n",
    "\n",
    "xx, yy = np.meshgrid(x, y, sparse=True)\n",
    "\n",
    "yy"
   ]
  },
  {
   "cell_type": "code",
   "execution_count": 13,
   "id": "968fd1c9",
   "metadata": {},
   "outputs": [
    {
     "data": {
      "text/plain": [
       "[array([[-5. , -4.9, -4.8, ...,  4.7,  4.8,  4.9],\n",
       "        [-5. , -4.9, -4.8, ...,  4.7,  4.8,  4.9],\n",
       "        [-5. , -4.9, -4.8, ...,  4.7,  4.8,  4.9],\n",
       "        ...,\n",
       "        [-5. , -4.9, -4.8, ...,  4.7,  4.8,  4.9],\n",
       "        [-5. , -4.9, -4.8, ...,  4.7,  4.8,  4.9],\n",
       "        [-5. , -4.9, -4.8, ...,  4.7,  4.8,  4.9]]),\n",
       " array([[-5. , -5. , -5. , ..., -5. , -5. , -5. ],\n",
       "        [-4.9, -4.9, -4.9, ..., -4.9, -4.9, -4.9],\n",
       "        [-4.8, -4.8, -4.8, ..., -4.8, -4.8, -4.8],\n",
       "        ...,\n",
       "        [ 4.7,  4.7,  4.7, ...,  4.7,  4.7,  4.7],\n",
       "        [ 4.8,  4.8,  4.8, ...,  4.8,  4.8,  4.8],\n",
       "        [ 4.9,  4.9,  4.9, ...,  4.9,  4.9,  4.9]])]"
      ]
     },
     "execution_count": 13,
     "metadata": {},
     "output_type": "execute_result"
    }
   ],
   "source": [
    "np.meshgrid(x, y)"
   ]
  }
 ],
 "metadata": {
  "kernelspec": {
   "display_name": "Python 3 (ipykernel)",
   "language": "python",
   "name": "python3"
  },
  "language_info": {
   "codemirror_mode": {
    "name": "ipython",
    "version": 3
   },
   "file_extension": ".py",
   "mimetype": "text/x-python",
   "name": "python",
   "nbconvert_exporter": "python",
   "pygments_lexer": "ipython3",
   "version": "3.8.8"
  }
 },
 "nbformat": 4,
 "nbformat_minor": 5
}
