{
 "cells": [
  {
   "cell_type": "code",
   "execution_count": 1,
   "id": "fdc07d7d",
   "metadata": {},
   "outputs": [
    {
     "name": "stdout",
     "output_type": "stream",
     "text": [
      "Available GPUs: [PhysicalDevice(name='/physical_device:GPU:0', device_type='GPU')]\n"
     ]
    }
   ],
   "source": [
    "import tensorflow as tf\n",
    "\n",
    "gpus = tf.config.experimental.list_physical_devices('GPU')\n",
    "if len(gpus) > 0 : print('Available GPUs: {}'.format(gpus))\n",
    "else             : print('!!! No GPUs found !!!')"
   ]
  },
  {
   "cell_type": "code",
   "execution_count": 3,
   "id": "38c69f43",
   "metadata": {},
   "outputs": [],
   "source": [
    "# https://github.com/ageron/handson-ml2/blob/master/17_autoencoders_and_gans.ipynb\n",
    "\n",
    "# Python ≥3.5 is required\n",
    "import sys\n",
    "assert sys.version_info >= (3, 5)\n",
    "\n",
    "# Is this notebook running on Colab or Kaggle?\n",
    "IS_COLAB = \"google.colab\" in sys.modules\n",
    "IS_KAGGLE = \"kaggle_secrets\" in sys.modules\n",
    "\n",
    "# Scikit-Learn ≥0.20 is required\n",
    "import sklearn\n",
    "assert sklearn.__version__ >= \"0.20\"\n",
    "\n",
    "# TensorFlow ≥2.0 is required\n",
    "import tensorflow as tf\n",
    "from tensorflow import keras\n",
    "assert tf.__version__ >= \"2.0\"\n",
    "\n",
    "if not tf.config.list_physical_devices('GPU'):\n",
    "    print(\"No GPU was detected. LSTMs and CNNs can be very slow without a GPU.\")\n",
    "    if IS_COLAB:\n",
    "        print(\"Go to Runtime > Change runtime and select a GPU hardware accelerator.\")\n",
    "    if IS_KAGGLE:\n",
    "        print(\"Go to Settings > Accelerator and select GPU.\")\n",
    "\n",
    "# Common imports\n",
    "import numpy as np\n",
    "import os\n",
    "\n",
    "# to make this notebook's output stable across runs\n",
    "np.random.seed(42)\n",
    "tf.random.set_seed(42)\n",
    "\n",
    "# To plot pretty figures\n",
    "%matplotlib inline\n",
    "import matplotlib as mpl\n",
    "import matplotlib.pyplot as plt\n",
    "mpl.rc('axes', labelsize=14)\n",
    "mpl.rc('xtick', labelsize=12)\n",
    "mpl.rc('ytick', labelsize=12)\n",
    "\n",
    "# Where to save the figures\n",
    "PROJECT_ROOT_DIR = \".\"\n",
    "CHAPTER_ID = \"autoencoders\"\n",
    "IMAGES_PATH = os.path.join(PROJECT_ROOT_DIR, \"images\", CHAPTER_ID)\n",
    "os.makedirs(IMAGES_PATH, exist_ok=True)\n",
    "\n",
    "def save_fig(fig_id, tight_layout=True, fig_extension=\"png\", resolution=300):\n",
    "    path = os.path.join(IMAGES_PATH, fig_id + \".\" + fig_extension)\n",
    "    print(\"Saving figure\", fig_id)\n",
    "    if tight_layout:\n",
    "        plt.tight_layout()\n",
    "    plt.savefig(path, format=fig_extension, dpi=resolution)"
   ]
  },
  {
   "cell_type": "code",
   "execution_count": 5,
   "id": "0384f31b",
   "metadata": {},
   "outputs": [],
   "source": [
    "def plot_image(image):\n",
    "    plt.imshow(image, cmap=\"binary\")\n",
    "    plt.axis(\"off\")"
   ]
  },
  {
   "cell_type": "code",
   "execution_count": 18,
   "id": "1075c389",
   "metadata": {},
   "outputs": [],
   "source": [
    "np.random.seed(42)\n",
    "\n",
    "def generate_3d_data(m, w1=0.1, w2=0.3, noise=0.1):\n",
    "    angles = np.random.rand(m) * 3 * np.pi / 2 - 0.5\n",
    "    data = np.empty((m, 3))\n",
    "    data[:, 0] = np.cos(angles) + np.sin(angles)/2 + noise * np.random.randn(m) / 2\n",
    "    data[:, 1] = np.sin(angles) * 0.7 + noise * np.random.randn(m) / 2\n",
    "    data[:, 2] = data[:, 0] * w1 + data[:, 1] * w2 + noise * np.random.randn(m)\n",
    "    return data\n",
    "\n",
    "X_train = generate_3d_data(60)\n",
    "X_train = X_train - X_train.mean(axis=0, keepdims=0)"
   ]
  },
  {
   "cell_type": "code",
   "execution_count": 19,
   "id": "f98f9752",
   "metadata": {},
   "outputs": [],
   "source": [
    "np.random.seed(42)\n",
    "tf.random.set_seed(42)\n",
    "\n",
    "encoder = keras.models.Sequential([keras.layers.Dense(2, input_shape=[3])])\n",
    "decoder = keras.models.Sequential([keras.layers.Dense(3, input_shape=[2])])\n",
    "autoencoder = keras.models.Sequential([encoder, decoder])\n",
    "\n",
    "autoencoder.compile(loss=\"mse\", optimizer=keras.optimizers.SGD(learning_rate=1.5))"
   ]
  },
  {
   "cell_type": "code",
   "execution_count": 20,
   "id": "13113377",
   "metadata": {},
   "outputs": [
    {
     "name": "stdout",
     "output_type": "stream",
     "text": [
      "Epoch 1/20\n",
      "2/2 [==============================] - 0s 12ms/step - loss: 0.1424\n",
      "Epoch 2/20\n",
      "2/2 [==============================] - 0s 4ms/step - loss: 0.0579\n",
      "Epoch 3/20\n",
      "2/2 [==============================] - 0s 5ms/step - loss: 0.0510\n",
      "Epoch 4/20\n",
      "2/2 [==============================] - 0s 6ms/step - loss: 0.0582\n",
      "Epoch 5/20\n",
      "2/2 [==============================] - 0s 4ms/step - loss: 0.0586\n",
      "Epoch 6/20\n",
      "2/2 [==============================] - 0s 5ms/step - loss: 0.0494\n",
      "Epoch 7/20\n",
      "2/2 [==============================] - 0s 6ms/step - loss: 0.0412\n",
      "Epoch 8/20\n",
      "2/2 [==============================] - 0s 11ms/step - loss: 0.0308\n",
      "Epoch 9/20\n",
      "2/2 [==============================] - 0s 6ms/step - loss: 0.0222\n",
      "Epoch 10/20\n",
      "2/2 [==============================] - 0s 8ms/step - loss: 0.0131\n",
      "Epoch 11/20\n",
      "2/2 [==============================] - 0s 5ms/step - loss: 0.0095\n",
      "Epoch 12/20\n",
      "2/2 [==============================] - 0s 4ms/step - loss: 0.0070\n",
      "Epoch 13/20\n",
      "2/2 [==============================] - 0s 4ms/step - loss: 0.0054\n",
      "Epoch 14/20\n",
      "1/2 [==============>...............] - ETA: 0s - loss: 0.0066"
     ]
    },
    {
     "name": "stderr",
     "output_type": "stream",
     "text": [
      "2021-12-30 14:17:50.784585: I tensorflow/core/grappler/optimizers/custom_graph_optimizer_registry.cc:112] Plugin optimizer for device_type GPU is enabled.\n"
     ]
    },
    {
     "name": "stdout",
     "output_type": "stream",
     "text": [
      "2/2 [==============================] - 0s 5ms/step - loss: 0.0049\n",
      "Epoch 15/20\n",
      "2/2 [==============================] - 0s 5ms/step - loss: 0.0050\n",
      "Epoch 16/20\n",
      "2/2 [==============================] - 0s 6ms/step - loss: 0.0048\n",
      "Epoch 17/20\n",
      "2/2 [==============================] - 0s 4ms/step - loss: 0.0049\n",
      "Epoch 18/20\n",
      "2/2 [==============================] - 0s 5ms/step - loss: 0.0045\n",
      "Epoch 19/20\n",
      "2/2 [==============================] - 0s 6ms/step - loss: 0.0048\n",
      "Epoch 20/20\n",
      "2/2 [==============================] - 0s 6ms/step - loss: 0.0047\n"
     ]
    }
   ],
   "source": [
    "history = autoencoder.fit(X_train, X_train, epochs=20)"
   ]
  },
  {
   "cell_type": "code",
   "execution_count": 21,
   "id": "3d0aa8b0",
   "metadata": {},
   "outputs": [
    {
     "name": "stderr",
     "output_type": "stream",
     "text": [
      "2021-12-30 14:17:55.349650: I tensorflow/core/grappler/optimizers/custom_graph_optimizer_registry.cc:112] Plugin optimizer for device_type GPU is enabled.\n"
     ]
    }
   ],
   "source": [
    "codings = encoder.predict(X_train)"
   ]
  },
  {
   "cell_type": "code",
   "execution_count": 22,
   "id": "8691dfd7",
   "metadata": {},
   "outputs": [
    {
     "name": "stdout",
     "output_type": "stream",
     "text": [
      "Saving figure linear_autoencoder_pca_plot\n"
     ]
    },
    {
     "data": {
      "image/png": "[encoded data removed]",
      "text/plain": [
       "<Figure size 288x216 with 1 Axes>"
      ]
     },
     "metadata": {
      "needs_background": "light"
     },
     "output_type": "display_data"
    }
   ],
   "source": [
    "fig = plt.figure(figsize=(4,3))\n",
    "plt.plot(codings[:,0], codings[:, 1], \"b.\")\n",
    "plt.xlabel(\"$z_1$\", fontsize=18)\n",
    "plt.ylabel(\"$z_2$\", fontsize=18, rotation=0)\n",
    "plt.grid(True)\n",
    "save_fig(\"linear_autoencoder_pca_plot\")\n",
    "plt.show()"
   ]
  },
  {
   "cell_type": "code",
   "execution_count": 25,
   "id": "70c0408f",
   "metadata": {},
   "outputs": [],
   "source": [
    "(X_train_full, y_train_full), (X_test, y_test) = keras.datasets.fashion_mnist.load_data()\n",
    "X_train_full = X_train_full.astype(np.float32) / 255\n",
    "X_test = X_test.astype(np.float32) / 255\n",
    "X_train, X_valid = X_train_full[:-5000], X_train_full[-5000:]\n",
    "y_train, y_valid = y_train_full[:-5000], y_train_full[-5000:]"
   ]
  },
  {
   "cell_type": "code",
   "execution_count": 26,
   "id": "87e23db2",
   "metadata": {},
   "outputs": [],
   "source": [
    "def rounded_accuracy(y_true, y_pred):\n",
    "    return keras.metrics.binary_accuracy(tf.round(y_true), tf.round(y_pred))"
   ]
  },
  {
   "cell_type": "code",
   "execution_count": null,
   "id": "5dc6e93c",
   "metadata": {
    "scrolled": false
   },
   "outputs": [
    {
     "name": "stdout",
     "output_type": "stream",
     "text": [
      "Epoch 1/20\n"
     ]
    },
    {
     "name": "stderr",
     "output_type": "stream",
     "text": [
      "2021-12-30 14:18:18.679357: I tensorflow/core/grappler/optimizers/custom_graph_optimizer_registry.cc:112] Plugin optimizer for device_type GPU is enabled.\n"
     ]
    },
    {
     "name": "stdout",
     "output_type": "stream",
     "text": [
      "1718/1719 [============================>.] - ETA: 0s - loss: 0.3364 - rounded_accuracy: 0.8886"
     ]
    },
    {
     "name": "stderr",
     "output_type": "stream",
     "text": [
      "2021-12-30 14:18:37.983688: I tensorflow/core/grappler/optimizers/custom_graph_optimizer_registry.cc:112] Plugin optimizer for device_type GPU is enabled.\n"
     ]
    },
    {
     "name": "stdout",
     "output_type": "stream",
     "text": [
      "1719/1719 [==============================] - 21s 12ms/step - loss: 0.3364 - rounded_accuracy: 0.8887 - val_loss: 0.3163 - val_rounded_accuracy: 0.9004\n",
      "Epoch 2/20\n",
      "1719/1719 [==============================] - 21s 12ms/step - loss: 0.3054 - rounded_accuracy: 0.9153 - val_loss: 0.3048 - val_rounded_accuracy: 0.9193\n",
      "Epoch 3/20\n",
      "1719/1719 [==============================] - 19s 11ms/step - loss: 0.2986 - rounded_accuracy: 0.9213 - val_loss: 0.2983 - val_rounded_accuracy: 0.9247\n",
      "Epoch 4/20\n",
      "1719/1719 [==============================] - 19s 11ms/step - loss: 0.2944 - rounded_accuracy: 0.9252 - val_loss: 0.2939 - val_rounded_accuracy: 0.9261\n",
      "Epoch 5/20\n",
      "1719/1719 [==============================] - 19s 11ms/step - loss: 0.2917 - rounded_accuracy: 0.9277 - val_loss: 0.2920 - val_rounded_accuracy: 0.9280\n",
      "Epoch 6/20\n",
      "1719/1719 [==============================] - 21s 12ms/step - loss: 0.2899 - rounded_accuracy: 0.9293 - val_loss: 0.2904 - val_rounded_accuracy: 0.9313\n",
      "Epoch 7/20\n",
      "1719/1719 [==============================] - 21s 12ms/step - loss: 0.2885 - rounded_accuracy: 0.9304 - val_loss: 0.2888 - val_rounded_accuracy: 0.9318\n",
      "Epoch 8/20\n",
      "1719/1719 [==============================] - 21s 12ms/step - loss: 0.2873 - rounded_accuracy: 0.9314 - val_loss: 0.2977 - val_rounded_accuracy: 0.9265\n",
      "Epoch 9/20\n",
      "1719/1719 [==============================] - 20s 12ms/step - loss: 0.2866 - rounded_accuracy: 0.9320 - val_loss: 0.2875 - val_rounded_accuracy: 0.9318\n",
      "Epoch 10/20\n",
      "1719/1719 [==============================] - 20s 12ms/step - loss: 0.2857 - rounded_accuracy: 0.9328 - val_loss: 0.2879 - val_rounded_accuracy: 0.9334\n",
      "Epoch 11/20\n",
      " 358/1719 [=====>........................] - ETA: 14s - loss: 0.2857 - rounded_accuracy: 0.9330"
     ]
    }
   ],
   "source": [
    "tf.random.set_seed(42)\n",
    "np.random.seed(42)\n",
    "\n",
    "stacked_encoder = keras.models.Sequential([\n",
    "    keras.layers.Flatten(input_shape=[28, 28]),\n",
    "    keras.layers.Dense(100, activation=\"selu\"),\n",
    "    keras.layers.Dense(30, activation=\"selu\"),\n",
    "])\n",
    "stacked_decoder = keras.models.Sequential([\n",
    "    keras.layers.Dense(100, activation=\"selu\", input_shape=[30]),\n",
    "    keras.layers.Dense(28 * 28, activation=\"sigmoid\"),\n",
    "    keras.layers.Reshape([28, 28])\n",
    "])\n",
    "stacked_ae = keras.models.Sequential([stacked_encoder, stacked_decoder])\n",
    "stacked_ae.compile(loss=\"binary_crossentropy\",\n",
    "                   optimizer=keras.optimizers.SGD(learning_rate=1.5), metrics=[rounded_accuracy])\n",
    "history = stacked_ae.fit(X_train, X_train, epochs=20,\n",
    "                         validation_data=(X_valid, X_valid))"
   ]
  },
  {
   "cell_type": "code",
   "execution_count": null,
   "id": "1b759971",
   "metadata": {},
   "outputs": [],
   "source": [
    "1"
   ]
  },
  {
   "cell_type": "code",
   "execution_count": null,
   "id": "834e88ce",
   "metadata": {},
   "outputs": [],
   "source": []
  }
 ],
 "metadata": {
  "kernelspec": {
   "display_name": "conda-forge",
   "language": "python",
   "name": "conda-forge"
  },
  "language_info": {
   "codemirror_mode": {
    "name": "ipython",
    "version": 3
   },
   "file_extension": ".py",
   "mimetype": "text/x-python",
   "name": "python",
   "nbconvert_exporter": "python",
   "pygments_lexer": "ipython3",
   "version": "3.9.7"
  }
 },
 "nbformat": 4,
 "nbformat_minor": 5
}
