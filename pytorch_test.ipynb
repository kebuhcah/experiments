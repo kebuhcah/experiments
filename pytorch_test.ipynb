{
 "cells": [
  {
   "cell_type": "code",
   "execution_count": 6,
   "id": "9d653fcb",
   "metadata": {},
   "outputs": [
    {
     "name": "stdout",
     "output_type": "stream",
     "text": [
      "Requirement already satisfied: torch in /Users/sunkev/miniforge3/lib/python3.9/site-packages (1.12.1)\n",
      "Requirement already satisfied: typing-extensions in /Users/sunkev/miniforge3/lib/python3.9/site-packages (from torch) (4.0.1)\n",
      "Collecting torchvision\n",
      "  Downloading torchvision-0.13.1-cp39-cp39-macosx_11_0_arm64.whl (1.2 MB)\n",
      "     |████████████████████████████████| 1.2 MB 1.6 MB/s            \n",
      "\u001b[?25hRequirement already satisfied: torch in /Users/sunkev/miniforge3/lib/python3.9/site-packages (from torchvision) (1.12.1)\n",
      "Requirement already satisfied: pillow!=8.3.*,>=5.3.0 in /Users/sunkev/miniforge3/lib/python3.9/site-packages (from torchvision) (9.0.1)\n",
      "Requirement already satisfied: numpy in /Users/sunkev/miniforge3/lib/python3.9/site-packages (from torchvision) (1.21.4)\n",
      "Requirement already satisfied: typing-extensions in /Users/sunkev/miniforge3/lib/python3.9/site-packages (from torchvision) (4.0.1)\n",
      "Requirement already satisfied: requests in /Users/sunkev/miniforge3/lib/python3.9/site-packages (from torchvision) (2.26.0)\n",
      "Requirement already satisfied: idna<4,>=2.5 in /Users/sunkev/miniforge3/lib/python3.9/site-packages (from requests->torchvision) (3.1)\n",
      "Requirement already satisfied: charset-normalizer~=2.0.0 in /Users/sunkev/miniforge3/lib/python3.9/site-packages (from requests->torchvision) (2.0.8)\n",
      "Requirement already satisfied: urllib3<1.27,>=1.21.1 in /Users/sunkev/miniforge3/lib/python3.9/site-packages (from requests->torchvision) (1.26.7)\n",
      "Requirement already satisfied: certifi>=2017.4.17 in /Users/sunkev/miniforge3/lib/python3.9/site-packages (from requests->torchvision) (2021.10.8)\n",
      "Installing collected packages: torchvision\n",
      "Successfully installed torchvision-0.13.1\n"
     ]
    }
   ],
   "source": [
    "! pip install torch\n",
    "! pip install torchvision"
   ]
  },
  {
   "cell_type": "code",
   "execution_count": 7,
   "id": "fee162c4",
   "metadata": {},
   "outputs": [],
   "source": [
    "import torch"
   ]
  },
  {
   "cell_type": "code",
   "execution_count": 8,
   "id": "999c20de",
   "metadata": {},
   "outputs": [
    {
     "data": {
      "text/plain": [
       "False"
      ]
     },
     "execution_count": 8,
     "metadata": {},
     "output_type": "execute_result"
    }
   ],
   "source": [
    "torch.cuda.is_available()"
   ]
  },
  {
   "cell_type": "code",
   "execution_count": null,
   "id": "765ca6b7",
   "metadata": {},
   "outputs": [],
   "source": []
  }
 ],
 "metadata": {
  "kernelspec": {
   "display_name": "Python 3 (ipykernel)",
   "language": "python",
   "name": "python3"
  },
  "language_info": {
   "codemirror_mode": {
    "name": "ipython",
    "version": 3
   },
   "file_extension": ".py",
   "mimetype": "text/x-python",
   "name": "python",
   "nbconvert_exporter": "python",
   "pygments_lexer": "ipython3",
   "version": "3.9.7"
  }
 },
 "nbformat": 4,
 "nbformat_minor": 5
}
