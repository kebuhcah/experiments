{
 "cells": [
  {
   "cell_type": "code",
   "execution_count": 1,
   "id": "bedfe279",
   "metadata": {},
   "outputs": [],
   "source": [
    "import re\n",
    "import urllib.request\n",
    "from bs4 import BeautifulSoup\n",
    "from pandas import DataFrame\n",
    "import pandas as pd\n",
    "import datetime\n",
    "import seaborn as sns\n",
    "\n",
    "# tutorial here: http://docs.sourcefabric.org/projects/ebooklib/en/latest/tutorial.html\n",
    "\n",
    "import ebooklib\n",
    "from ebooklib import epub"
   ]
  },
  {
   "cell_type": "code",
   "execution_count": 2,
   "id": "6df9dbc2",
   "metadata": {},
   "outputs": [],
   "source": [
    "book = epub.read_epub('data/korean.epub')"
   ]
  },
  {
   "cell_type": "code",
   "execution_count": 3,
   "id": "97b15ba3",
   "metadata": {},
   "outputs": [
    {
     "name": "stdout",
     "output_type": "stream",
     "text": [
      "[('A Frequency Dictionary of Korean', {'id': 'pub-title'})]\n",
      "[('Sun-Hee Lee,Seok Bae Jang,Sang Kyu Seo', {'id': 'pub-creator'})]\n",
      "[('urn:isbn:9781317201274', {'id': 'BookId'})]\n",
      "[('eng', {'id': 'pub-language'})]\n",
      "[('Taylor & Francis (CAM)', {})]\n",
      "[('© 2017 Sun-Hee Lee, Seok Bae Jang, and Sang Kyu Seo', {})]\n",
      "[]\n",
      "[(None, {'content': 'coverpage', 'name': 'cover'})]\n"
     ]
    }
   ],
   "source": [
    "print(book.get_metadata('DC', 'title'))\n",
    "print(book.get_metadata('DC', 'creator'))\n",
    "print(book.get_metadata('DC', 'identifier'))\n",
    "print(book.get_metadata('DC', 'language'))\n",
    "print(book.get_metadata('DC', 'publisher'))\n",
    "print(book.get_metadata('DC', 'rights'))\n",
    "print(book.get_metadata('DC', 'description'))\n",
    "print(book.get_metadata('OPF', 'cover'))"
   ]
  },
  {
   "cell_type": "code",
   "execution_count": 4,
   "id": "a8c9c823",
   "metadata": {},
   "outputs": [],
   "source": [
    "images = book.get_items_of_type(ebooklib.ITEM_IMAGE)"
   ]
  },
  {
   "cell_type": "code",
   "execution_count": 5,
   "id": "930dc409",
   "metadata": {},
   "outputs": [
    {
     "name": "stderr",
     "output_type": "stream",
     "text": [
      "IOPub data rate exceeded.\n",
      "The notebook server will temporarily stop sending output\n",
      "to the client in order to avoid crashing it.\n",
      "To change this limit, set the config variable\n",
      "`--NotebookApp.iopub_data_rate_limit`.\n",
      "\n",
      "Current values:\n",
      "NotebookApp.iopub_data_rate_limit=1000000.0 (bytes/sec)\n",
      "NotebookApp.rate_limit_window=3.0 (secs)\n",
      "\n"
     ]
    }
   ],
   "source": [
    "for item in book.get_items():\n",
    "    if item.get_type() == ebooklib.ITEM_DOCUMENT:\n",
    "        print('==================================')\n",
    "        print('NAME : ', item.get_name())\n",
    "        print('----------------------------------')\n",
    "        print(item.get_content())\n",
    "        print('==================================')"
   ]
  },
  {
   "cell_type": "code",
   "execution_count": 6,
   "id": "b03682af",
   "metadata": {},
   "outputs": [
    {
     "name": "stdout",
     "output_type": "stream",
     "text": [
      "18080525\n"
     ]
    }
   ],
   "source": [
    "content = []\n",
    "\n",
    "for doc in book.get_items():\n",
    "    content += str(doc.content)\n",
    "    \n",
    "print(len(content))"
   ]
  },
  {
   "cell_type": "code",
   "execution_count": 9,
   "id": "8a775a75",
   "metadata": {},
   "outputs": [
    {
     "name": "stderr",
     "output_type": "stream",
     "text": [
      "IOPub data rate exceeded.\n",
      "The notebook server will temporarily stop sending output\n",
      "to the client in order to avoid crashing it.\n",
      "To change this limit, set the config variable\n",
      "`--NotebookApp.iopub_data_rate_limit`.\n",
      "\n",
      "Current values:\n",
      "NotebookApp.iopub_data_rate_limit=1000000.0 (bytes/sec)\n",
      "NotebookApp.rate_limit_window=3.0 (secs)\n",
      "\n"
     ]
    }
   ],
   "source": [
    "print(''.join(content))"
   ]
  }
 ],
 "metadata": {
  "kernelspec": {
   "display_name": "conda-forge",
   "language": "python",
   "name": "conda-forge"
  },
  "language_info": {
   "codemirror_mode": {
    "name": "ipython",
    "version": 3
   },
   "file_extension": ".py",
   "mimetype": "text/x-python",
   "name": "python",
   "nbconvert_exporter": "python",
   "pygments_lexer": "ipython3",
   "version": "3.9.7"
  }
 },
 "nbformat": 4,
 "nbformat_minor": 5
}
