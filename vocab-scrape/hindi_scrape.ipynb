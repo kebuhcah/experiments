{
 "cells": [
  {
   "cell_type": "code",
   "execution_count": 1,
   "metadata": {},
   "outputs": [],
   "source": [
    "import re\n",
    "import requests\n",
    "from bs4 import BeautifulSoup, NavigableString\n",
    "import pandas as pd\n",
    "from tqdm import tqdm\n",
    "\n",
    "# page nos. 1 to 708\n",
    "hindi_url = 'https://dsal.uchicago.edu/cgi-bin/app/bahri_query.py?page='"
   ]
  },
  {
   "cell_type": "code",
   "execution_count": 2,
   "metadata": {},
   "outputs": [],
   "source": [
    "soups = {}\n",
    "\n",
    "def get_soup(page):\n",
    "    if page in soups:\n",
    "        return soups[page]\n",
    "    \n",
    "    res = requests.get(hindi_url + str(page))\n",
    "    soup = BeautifulSoup(res.text)\n",
    "    soups[page] = soup\n",
    "    return soup"
   ]
  },
  {
   "cell_type": "code",
   "execution_count": 3,
   "metadata": {},
   "outputs": [
    {
     "name": "stderr",
     "output_type": "stream",
     "text": [
      "100%|██████████| 708/708 [06:03<00:00,  1.95it/s]\n"
     ]
    }
   ],
   "source": [
    "for i in tqdm(range(1,709)):\n",
    "    get_soup(i)"
   ]
  },
  {
   "cell_type": "code",
   "execution_count": 4,
   "metadata": {},
   "outputs": [
    {
     "ename": "RecursionError",
     "evalue": "maximum recursion depth exceeded",
     "output_type": "error",
     "traceback": [
      "\u001b[0;31m---------------------------------------------------------------------------\u001b[0m",
      "\u001b[0;31mRecursionError\u001b[0m                            Traceback (most recent call last)",
      "Input \u001b[0;32mIn [4]\u001b[0m, in \u001b[0;36m<module>\u001b[0;34m\u001b[0m\n\u001b[1;32m      1\u001b[0m \u001b[38;5;28;01mimport\u001b[39;00m \u001b[38;5;21;01mpickle\u001b[39;00m\n\u001b[0;32m----> 2\u001b[0m \u001b[43mpickle\u001b[49m\u001b[38;5;241;43m.\u001b[39;49m\u001b[43mdump\u001b[49m\u001b[43m(\u001b[49m\u001b[43msoups\u001b[49m\u001b[43m,\u001b[49m\u001b[43m \u001b[49m\u001b[38;5;28;43mopen\u001b[39;49m\u001b[43m(\u001b[49m\u001b[38;5;124;43m'\u001b[39;49m\u001b[38;5;124;43m./hindi_soups.pickle\u001b[39;49m\u001b[38;5;124;43m'\u001b[39;49m\u001b[43m,\u001b[49m\u001b[43m \u001b[49m\u001b[38;5;124;43m'\u001b[39;49m\u001b[38;5;124;43mwb\u001b[39;49m\u001b[38;5;124;43m'\u001b[39;49m\u001b[43m)\u001b[49m\u001b[43m)\u001b[49m\n",
      "\u001b[0;31mRecursionError\u001b[0m: maximum recursion depth exceeded"
     ]
    }
   ],
   "source": [
    "import pickle\n",
    "pickle.dump(soups, open('./hindi_soups.pickle', 'wb'))"
   ]
  },
  {
   "cell_type": "code",
   "execution_count": 5,
   "metadata": {},
   "outputs": [],
   "source": [
    "pd.set_option('display.max_colwidth', None)\n",
    "pd.set_option('display.max_rows', None)"
   ]
  },
  {
   "cell_type": "code",
   "execution_count": 11,
   "metadata": {},
   "outputs": [],
   "source": [
    "def process_entry(div):\n",
    "    return {\n",
    "        'headword': div.select_one('hw').text.strip(),\n",
    "        #'transliteration': ''.join(s.strip() for s in div.select_one('hw').children if type(s) == NavigableString),\n",
    "        #'subentry_count': len([1 for b in div.select('b') if b.text.strip().isnumeric() or len(b.text.strip().split())>1]),\n",
    "        #'text': div.text.strip(),\n",
    "        'html': str(div)\n",
    "    }\n",
    "\n",
    "sorted_entries = pd.concat([pd.DataFrame([process_entry(div) for div in soups[page].select('div.hw_result > div')]) for page in soups.keys()], ignore_index=True)#.sort_values('subentry_count', ascending=False)"
   ]
  },
  {
   "cell_type": "code",
   "execution_count": 12,
   "metadata": {},
   "outputs": [
    {
     "data": {
      "text/html": [
       "<div>\n",
       "<style scoped>\n",
       "    .dataframe tbody tr th:only-of-type {\n",
       "        vertical-align: middle;\n",
       "    }\n",
       "\n",
       "    .dataframe tbody tr th {\n",
       "        vertical-align: top;\n",
       "    }\n",
       "\n",
       "    .dataframe thead th {\n",
       "        text-align: right;\n",
       "    }\n",
       "</style>\n",
       "<table border=\"1\" class=\"dataframe\">\n",
       "  <thead>\n",
       "    <tr style=\"text-align: right;\">\n",
       "      <th></th>\n",
       "      <th>headword</th>\n",
       "      <th>html</th>\n",
       "    </tr>\n",
       "  </thead>\n",
       "  <tbody>\n",
       "    <tr>\n",
       "      <th>0</th>\n",
       "      <td>अंक aṅka</td>\n",
       "      <td>&lt;div&gt;  \\n\\t\\t\\t\\n\\t\\t\\t&lt;hw&gt;&lt;d&gt;&lt;b&gt;अंक&lt;/b&gt; &lt;b&gt;aṅka&lt;/b&gt;&lt;/d&gt;&lt;/hw&gt; &lt;i&gt;m&lt;sup&gt;c&lt;/sup&gt;&lt;/i&gt; &lt;b&gt;1&lt;/b&gt;. number, numerical figure (usu. pl.); &lt;d&gt;देवनागरी&lt;/d&gt;/&lt;d&gt;रोमन&lt;/d&gt; ~ Devanagari/ Roman figures; &lt;d&gt;अंकों में लिखना&lt;/d&gt; to write in figures. &lt;b&gt;2&lt;/b&gt;. (&lt;d&gt;परीक्षा में&lt;/d&gt;) mark; &lt;d&gt;उसके अंग्रेज़ी में बहुत अच्छे&lt;/d&gt; ~ &lt;d&gt;थे&lt;/d&gt; he had very good —s in English; ~ &lt;d&gt;पत्र&lt;/d&gt; &lt;i&gt;m&lt;/i&gt;, ~ &lt;d&gt;सूची&lt;/d&gt; &lt;i&gt;f&lt;/i&gt; mark-sheet. &lt;b&gt;3&lt;/b&gt;. (&lt;d&gt;खेलों में&lt;/d&gt;) point; ~ &lt;d&gt;गँवाना&lt;/d&gt; to lose —s; &lt;d&gt;इतने अंकों पर हराया&lt;/d&gt; beat/defeated by so many —s; &lt;d&gt;क्वथनांक&lt;/d&gt; boiling —; &lt;d&gt;हिमांक&lt;/d&gt; freezing —. &lt;b&gt;4&lt;/b&gt;. (&lt;d&gt;चिह्न&lt;/d&gt;) sign, mark; ~ &lt;d&gt;लगाना&lt;/d&gt; to mark. &lt;b&gt;5&lt;/b&gt;. (&lt;d&gt;गोद&lt;/d&gt;) lap, bosom; ~ &lt;d&gt;में लेना&lt;/d&gt; to take in one's lap; △ &lt;d&gt;किसी को&lt;/d&gt; ~ &lt;d&gt;देना&lt;/d&gt; (&lt;d&gt;भरना&lt;/d&gt;, &lt;d&gt;लगाना&lt;/d&gt;) to take smb to bosom, to embrace smb. &lt;b&gt;6&lt;/b&gt;. act; &lt;d&gt;इस नाटक में पाँच&lt;/d&gt; ~ &lt;d&gt;हैं&lt;/d&gt; this drama/play has five —s. &lt;b&gt;7&lt;/b&gt;. number, issue; &lt;d&gt;पत्रिका का&lt;/d&gt; ~ — of a magazine/journal; &lt;d&gt;विशेष&lt;/d&gt; ~ special —; &lt;d&gt;पिछला&lt;/d&gt; (&lt;d&gt;गत&lt;/d&gt;) ~ last issue, back number. [syn. for 1, 2, 3, 7 &lt;d&gt;नंबर&lt;/d&gt;] \\n\\t\\t\\t&lt;/div&gt;</td>\n",
       "    </tr>\n",
       "    <tr>\n",
       "      <th>1</th>\n",
       "      <td>अंक-गणित aṅka-gaṇita</td>\n",
       "      <td>&lt;div&gt;  \\n\\t\\t\\t\\n\\t\\t\\t&lt;hw&gt;&lt;d&gt;&lt;b&gt;अंक-गणित&lt;/b&gt; &lt;b&gt;aṅka-gaṇita&lt;/b&gt;&lt;/d&gt;&lt;/hw&gt; &lt;i&gt;mu&lt;/i&gt;, &lt;d&gt;अंकविद्या&lt;/d&gt; aṅk·vidyā &lt;i&gt;f&lt;/i&gt; (no pl. or obl.) arithmetic; ~ &lt;d&gt;की अभ्यास-पुस्तिका&lt;/d&gt; — exercise book; &lt;d&gt;लड़का&lt;/d&gt; ~ &lt;d&gt;में होशियार&lt;/d&gt;/ &lt;d&gt;कमज़ोर है&lt;/d&gt; the boy is clever/weak in —. [syn. &lt;d&gt;हिसाब&lt;/d&gt;] \\n\\t\\t\\t&lt;/div&gt;</td>\n",
       "    </tr>\n",
       "    <tr>\n",
       "      <th>2</th>\n",
       "      <td>अंकित aṅkita</td>\n",
       "      <td>&lt;div&gt;  \\n\\t\\t\\t\\n\\t\\t\\t&lt;hw&gt;&lt;d&gt;&lt;b&gt;अंकित&lt;/b&gt; &lt;b&gt;aṅkita&lt;/b&gt;&lt;/d&gt;&lt;/hw&gt; pp. from &lt;d&gt;अंक&lt;/d&gt;, &lt;i&gt;a&lt;/i&gt; written, inscribed, marked; ~ &lt;d&gt;मूल्य&lt;/d&gt; marked price, nominal value; ~ &lt;d&gt;करना&lt;/d&gt; to mark, to inscribe; &lt;d&gt;अँगूठीं पर रामनाम&lt;/d&gt; ~ &lt;d&gt;था&lt;/d&gt; Ram's name was inscribed on the ring. \\n\\t\\t\\t&lt;/div&gt;</td>\n",
       "    </tr>\n",
       "    <tr>\n",
       "      <th>3</th>\n",
       "      <td>अंकुर aṅkura</td>\n",
       "      <td>&lt;div&gt;  \\n\\t\\t\\t\\n\\t\\t\\t&lt;hw&gt;&lt;d&gt;&lt;b&gt;अंकुर&lt;/b&gt; &lt;b&gt;aṅkura&lt;/b&gt;&lt;/d&gt;&lt;/hw&gt; &lt;i&gt;m&lt;sup&gt;c&lt;/sup&gt;&lt;/i&gt; sprout, shoot [&lt;d&gt;नया&lt;/d&gt; new, &lt;d&gt;हरा&lt;/d&gt; green]; &lt;d&gt;पौधे में&lt;/d&gt; ~ &lt;d&gt;आता है&lt;/d&gt; (&lt;d&gt;जमता है&lt;/d&gt;), &lt;d&gt;पौधे से&lt;/d&gt; ~ &lt;d&gt;फूटता है&lt;/d&gt; (&lt;d&gt;निकलता है&lt;/d&gt;) the plant sprouts, puts forth shoots; ~ &lt;d&gt;जमाना&lt;/d&gt; to plant out sprouts. \\n\\t\\t\\t&lt;/div&gt;</td>\n",
       "    </tr>\n",
       "    <tr>\n",
       "      <th>4</th>\n",
       "      <td>अंकुरित aṅkurita</td>\n",
       "      <td>&lt;div&gt;  \\n\\t\\t\\t\\n\\t\\t\\t&lt;hw&gt;&lt;d&gt;&lt;b&gt;अंकुरित&lt;/b&gt; &lt;b&gt;aṅkurita&lt;/b&gt;&lt;/d&gt;&lt;/hw&gt; pp. fr. &lt;d&gt;अंकुर&lt;/d&gt;, &lt;i&gt;a&lt;/i&gt; sprouted, having sprouts; ~ &lt;d&gt;होना&lt;/d&gt; to sprout, to put forth shoots; (&lt;i&gt;fig&lt;/i&gt;.) ~ &lt;d&gt;यौवन&lt;/d&gt; budding youth. \\n\\t\\t\\t&lt;/div&gt;</td>\n",
       "    </tr>\n",
       "    <tr>\n",
       "      <th>5</th>\n",
       "      <td>अंकुश aṅkuśa</td>\n",
       "      <td>&lt;div&gt;  \\n\\t\\t\\t\\n\\t\\t\\t&lt;hw&gt;&lt;d&gt;&lt;b&gt;अंकुश&lt;/b&gt; &lt;b&gt;aṅkuśa&lt;/b&gt;&lt;/d&gt;&lt;/hw&gt; &lt;i&gt;m&lt;sup&gt;c&lt;/sup&gt;&lt;/i&gt; (gen. singular) &lt;b&gt;1&lt;/b&gt;. (elephant driver's) hook, goad; &lt;d&gt;हाथी को चलाने के लिए&lt;/d&gt; ~ &lt;d&gt;मारना&lt;/d&gt;/ &lt;d&gt;लगाना&lt;/d&gt; thrust a hook in to prod an elephant. &lt;b&gt;2&lt;/b&gt;. (&lt;i&gt;fig&lt;/i&gt;., &lt;d&gt;नियंत्रण&lt;/d&gt;) restraint, control; ~ &lt;d&gt;के नीचे छटपटाना&lt;/d&gt; to fret under a restraint; &lt;d&gt;किसी को&lt;/d&gt; ~ &lt;d&gt;में रखना&lt;/d&gt;, &lt;d&gt;किसी पर&lt;/d&gt; ~ &lt;d&gt;रखना&lt;/d&gt; to keep smb under control. \\n\\t\\t\\t&lt;/div&gt;</td>\n",
       "    </tr>\n",
       "    <tr>\n",
       "      <th>6</th>\n",
       "      <td>अंग aṅga</td>\n",
       "      <td>&lt;div&gt;  \\n\\t\\t\\t\\n\\t\\t\\t&lt;hw&gt;&lt;d&gt;&lt;b&gt;अंग&lt;/b&gt; &lt;b&gt;aṅga&lt;/b&gt;&lt;/d&gt;&lt;/hw&gt; &lt;i&gt;m&lt;sup&gt;c&lt;/sup&gt;&lt;/i&gt; &lt;b&gt;1&lt;/b&gt;. (&lt;d&gt;शरीर का&lt;/d&gt;) limb, organ/part of the body; &lt;d&gt;कान&lt;/d&gt;, &lt;d&gt;नाक&lt;/d&gt;, &lt;d&gt;हाथ&lt;/d&gt;, &lt;d&gt;पाँव आदि शरीर के अंग हैं&lt;/d&gt; ears, nose, hands, feet, etc. are —s of the body; &lt;d&gt;कृत्रिम&lt;/d&gt; ~ artificial limb; &lt;d&gt;गुप्त&lt;/d&gt; ~ private parts; &lt;d&gt;मेरा अंग-अंग दुखता है&lt;/d&gt; every — of my body pains; ~ &lt;d&gt;मोड़ना&lt;/d&gt; to turn/twist the body; △ ~ &lt;d&gt;लगना&lt;/d&gt; (a) to be embraced; &lt;d&gt;आओ मेरे&lt;/d&gt; ~ &lt;d&gt;लग जाओ&lt;/d&gt; come and embrace me; (b) to be assimilated; &lt;d&gt;खाया-पिया&lt;/d&gt; ~ &lt;d&gt;नहीं लगता&lt;/d&gt; food is not assimilated; ~ &lt;d&gt;लगाना&lt;/d&gt; embrace; &lt;d&gt;माँ ने बच्चे को&lt;/d&gt; ~ &lt;d&gt;लगा लिया&lt;/d&gt; the mother —d the child. &lt;b&gt;2&lt;/b&gt;. (&lt;d&gt;भाग&lt;/d&gt;) part, member; &lt;d&gt;अभिन्‍न&lt;/d&gt; ~ integral part; &lt;d&gt;संपूर्ण के&lt;/d&gt; ~ parts/members of the whole. &lt;b&gt;3&lt;/b&gt;. (&lt;d&gt;शाखा&lt;/d&gt;) branch, area; &lt;d&gt;विज्ञान के&lt;/d&gt; ~ areas of science; &lt;d&gt;साहित्य का&lt;/d&gt; ~ branch of literature. \\n\\t\\t\\t&lt;/div&gt;</td>\n",
       "    </tr>\n",
       "    <tr>\n",
       "      <th>7</th>\n",
       "      <td>अँगड़ाई am̐gaṛāī</td>\n",
       "      <td>&lt;div&gt;  \\n\\t\\t\\t\\n\\t\\t\\t&lt;hw&gt;&lt;d&gt;&lt;b&gt;अँगड़ाई&lt;/b&gt; &lt;b&gt;am̐gaṛāī&lt;/b&gt;&lt;/d&gt;&lt;/hw&gt; &lt;i&gt;f&lt;sup&gt;c&lt;/sup&gt;&lt;/i&gt; (pl. &lt;d&gt;अँगड़ाइयाँ&lt;/d&gt;) stretching (the body), twisting (the limbs); &lt;d&gt;बुखार में&lt;/d&gt; ~ &lt;d&gt;आती है&lt;/d&gt; the body twists in fever; &lt;d&gt;बाघ ने&lt;/d&gt; ~ &lt;d&gt;ली&lt;/d&gt; the tiger twisted his body; ~ &lt;d&gt;लेना&lt;/d&gt;/&lt;d&gt;तोडना&lt;/d&gt; to stretch the body, to oscitate. \\n\\t\\t\\t&lt;/div&gt;</td>\n",
       "    </tr>\n",
       "    <tr>\n",
       "      <th>8</th>\n",
       "      <td>अँगरेज़ am̐garēza</td>\n",
       "      <td>&lt;div&gt;  \\n\\t\\t\\t\\n\\t\\t\\t&lt;hw&gt;&lt;d&gt;&lt;b&gt;अँगरेज़&lt;/b&gt; &lt;b&gt;am̐garēza&lt;/b&gt;&lt;/d&gt;&lt;/hw&gt; &lt;d&gt;दे० अँग्रेज़&lt;/d&gt;\\n&lt;/div&gt;</td>\n",
       "    </tr>\n",
       "    <tr>\n",
       "      <th>9</th>\n",
       "      <td>अँगरेज़ी am̐garēzī</td>\n",
       "      <td>&lt;div&gt;  \\n\\t\\t\\t\\n\\t\\t\\t&lt;hw&gt;&lt;d&gt;&lt;b&gt;अँगरेज़ी&lt;/b&gt; &lt;b&gt;am̐garēzī&lt;/b&gt;&lt;/d&gt;&lt;/hw&gt; &lt;d&gt;दे० अँग्रेज़ी&lt;/d&gt;\\n&lt;/div&gt;</td>\n",
       "    </tr>\n",
       "    <tr>\n",
       "      <th>10</th>\n",
       "      <td>अँगहीन am̐gahīna</td>\n",
       "      <td>&lt;div&gt;  \\n\\t\\t\\t\\n\\t\\t\\t&lt;hw&gt;&lt;d&gt;&lt;b&gt;अँगहीन&lt;/b&gt; &lt;b&gt;am̐gahīna&lt;/b&gt;&lt;/d&gt;&lt;/hw&gt; &lt;i&gt;a&lt;/i&gt; maimed, crippled [&lt;d&gt;पुरुष&lt;/d&gt; man, &lt;d&gt;स्त्री&lt;/d&gt; woman, &lt;d&gt;बच्चा&lt;/d&gt; child]. [syn. &lt;d&gt;लूला-लँगड़ा&lt;/d&gt;] \\n\\t\\t\\t&lt;/div&gt;</td>\n",
       "    </tr>\n",
       "    <tr>\n",
       "      <th>11</th>\n",
       "      <td>अंगार aṅgāra</td>\n",
       "      <td>&lt;div&gt;  \\n\\t\\t\\t\\n\\t\\t\\t&lt;hw&gt;&lt;d&gt;&lt;b&gt;अंगार&lt;/b&gt; &lt;b&gt;aṅgāra&lt;/b&gt;&lt;/d&gt;&lt;/hw&gt; &lt;i&gt;m&lt;sup&gt;c&lt;/sup&gt;&lt;/i&gt; embers; △ ~ &lt;d&gt;उगलना&lt;/d&gt; to be fiery in speech. [more popular &lt;d&gt;अंगारा&lt;/d&gt; q. v.] \\n\\t\\t\\t&lt;/div&gt;</td>\n",
       "    </tr>\n",
       "    <tr>\n",
       "      <th>12</th>\n",
       "      <td>अंगारा aṅgārā</td>\n",
       "      <td>&lt;div&gt;  \\n\\t\\t\\t\\n\\t\\t\\t&lt;hw&gt;&lt;d&gt;&lt;b&gt;अंगारा&lt;/b&gt; &lt;b&gt;aṅgārā&lt;/b&gt;&lt;/d&gt;&lt;/hw&gt; &lt;i&gt;m&lt;sup&gt;c&lt;/sup&gt;&lt;/i&gt; live coal, burning charcoal, embers; &lt;d&gt;एक&lt;/d&gt; ~ &lt;d&gt;उसके कपड़ों पर आ पड़ा&lt;/d&gt; a burning coal fell on his dress; &lt;d&gt;लाल&lt;/d&gt; ~ red hot coal, (fig.) red as a burning coal, bright red; △ ~ &lt;d&gt;बनना&lt;/d&gt; to be red with rage, etc.; &lt;d&gt;अँगारे उगलना&lt;/d&gt; = &lt;d&gt;अंगार उगलना&lt;/d&gt;; &lt;d&gt;अँगारे बरसना&lt;/d&gt; to be excessively hot (said of the weather); &lt;d&gt;आज तो अँगारे बरस रहे हैं&lt;/d&gt; it is awfully hot to-day; &lt;d&gt;अँगारों पर पैर रखना&lt;/d&gt; to jump into hot waters; &lt;d&gt;अँगारों पर लोटना&lt;/d&gt; to be on thorns, to be agitated; &lt;d&gt;सारी रात चिंता से अँगारों पर लोटता रहा&lt;/d&gt; I was restless through anxiety all the night. \\n\\t\\t\\t&lt;/div&gt;</td>\n",
       "    </tr>\n",
       "    <tr>\n",
       "      <th>13</th>\n",
       "      <td>अँगिया am̐giyā</td>\n",
       "      <td>&lt;div&gt;  \\n\\t\\t\\t\\n\\t\\t\\t&lt;hw&gt;&lt;d&gt;&lt;b&gt;अँगिया&lt;/b&gt; &lt;b&gt;am̐giyā&lt;/b&gt;&lt;/d&gt;&lt;/hw&gt; &lt;i&gt;f&lt;sup&gt;c&lt;/sup&gt;&lt;/i&gt; (pl. &lt;d&gt;अँगियाँ&lt;/d&gt;) bodice, corset [&lt;d&gt;नये फ़ैशन की&lt;/d&gt; of the new fashion, &lt;d&gt;नायलन की&lt;/d&gt; made of nylon, &lt;d&gt;रेशमी&lt;/d&gt; silk (en)] ~ &lt;d&gt;पहनना&lt;/d&gt; to put on a —; ~ &lt;d&gt;उतारना&lt;/d&gt; to put off a —. \\n\\t\\t\\t&lt;/div&gt;</td>\n",
       "    </tr>\n",
       "    <tr>\n",
       "      <th>14</th>\n",
       "      <td>अंगीकार aṅgīkāra</td>\n",
       "      <td>&lt;div&gt;  \\n\\t\\t\\t\\n\\t\\t\\t&lt;hw&gt;&lt;d&gt;&lt;b&gt;अंगीकार&lt;/b&gt; &lt;b&gt;aṅgīkāra&lt;/b&gt;&lt;/d&gt;&lt;/hw&gt; &lt;i&gt;mu&lt;/i&gt; &lt;d&gt;किसी को&lt;/d&gt; ~ &lt;d&gt;करना&lt;/d&gt; to own smb, to take smb to oneself; &lt;d&gt;किसी बात को&lt;/d&gt; ~ &lt;d&gt;करना&lt;/d&gt; to confess smth. \\n\\t\\t\\t&lt;/div&gt;</td>\n",
       "    </tr>\n",
       "    <tr>\n",
       "      <th>15</th>\n",
       "      <td>अँगीठी am̐gīṭhī</td>\n",
       "      <td>&lt;div&gt;  \\n\\t\\t\\t\\n\\t\\t\\t&lt;hw&gt;&lt;d&gt;&lt;b&gt;अँगीठी&lt;/b&gt; &lt;b&gt;am̐gīṭhī&lt;/b&gt;&lt;/d&gt;&lt;/hw&gt; &lt;i&gt;f&lt;sup&gt;c&lt;/sup&gt;&lt;/i&gt; (bigger &lt;d&gt;अँगीठा&lt;/d&gt; &lt;i&gt;m&lt;/i&gt;) fireplace, brazier [&lt;d&gt;लोहे की&lt;/d&gt; iron, &lt;d&gt;मिट्टी की&lt;/d&gt; earthen] &lt;d&gt;बिजली की&lt;/d&gt; ~ electric stove; &lt;d&gt;जलती है&lt;/d&gt; burns, &lt;d&gt;बुझती है&lt;/d&gt; goes out, is off; &lt;d&gt;यह हाँडी&lt;/d&gt; ~ &lt;d&gt;पर रख दो&lt;/d&gt; put this earthen pot on the —. [cf. &lt;d&gt;भट्ठी&lt;/d&gt; furnace] \\n\\t\\t\\t&lt;/div&gt;</td>\n",
       "    </tr>\n",
       "    <tr>\n",
       "      <th>16</th>\n",
       "      <td>अंगुल aṅgula</td>\n",
       "      <td>&lt;div&gt;  \\n\\t\\t\\t\\n\\t\\t\\t&lt;hw&gt;&lt;d&gt;&lt;b&gt;अंगुल&lt;/b&gt; &lt;b&gt;aṅgula&lt;/b&gt;&lt;/d&gt;&lt;/hw&gt; &lt;i&gt;m&lt;sup&gt;c&lt;/sup&gt;&lt;/i&gt; finger-breadth; &lt;d&gt;एक&lt;/d&gt; ~ &lt;d&gt;मोटा&lt;/d&gt; one-finger-breadth thick, &lt;d&gt;चार&lt;/d&gt; ~ &lt;d&gt;लंबा&lt;/d&gt; four-finger-breadth long. \\n\\t\\t\\t&lt;/div&gt;</td>\n",
       "    </tr>\n",
       "    <tr>\n",
       "      <th>17</th>\n",
       "      <td>अंगुली aṅgulī</td>\n",
       "      <td>&lt;div&gt;  \\n\\t\\t\\t\\n\\t\\t\\t&lt;hw&gt;&lt;d&gt;&lt;b&gt;अंगुली&lt;/b&gt; &lt;b&gt;aṅgulī&lt;/b&gt;&lt;/d&gt;&lt;/hw&gt; &lt;i&gt;f&lt;sup&gt;c&lt;/sup&gt;&lt;/i&gt; = &lt;d&gt;उँगली&lt;/d&gt;; as a rule used in Sanskrit contexts: &lt;d&gt;तर्जनी&lt;/d&gt; (~) forefinger, &lt;d&gt;मध्यमा&lt;/d&gt; (~) middle finger, &lt;d&gt;अनामिका&lt;/d&gt; (~) ring-finger, &lt;d&gt;कनिष्ठा&lt;/d&gt; / &lt;d&gt;कनिष्ठिका&lt;/d&gt; (~) the little finger; ~ &lt;d&gt;संकेत&lt;/d&gt; pointing with a finger. \\n\\t\\t\\t&lt;/div&gt;</td>\n",
       "    </tr>\n",
       "    <tr>\n",
       "      <th>18</th>\n",
       "      <td>अँगूठा am̐gūṭhā</td>\n",
       "      <td>&lt;div&gt;  \\n\\t\\t\\t\\n\\t\\t\\t&lt;hw&gt;&lt;d&gt;&lt;b&gt;अँगूठा&lt;/b&gt; &lt;b&gt;am̐gūṭhā&lt;/b&gt;&lt;/d&gt;&lt;/hw&gt; &lt;i&gt;m&lt;sup&gt;c&lt;/sup&gt;&lt;/i&gt; &lt;b&gt;1&lt;/b&gt;. thumb; &lt;d&gt;अँगूठे का निशान&lt;/d&gt; thumb-impression; &lt;d&gt;बच्चा&lt;/d&gt; ~ &lt;d&gt;चूसता है&lt;/d&gt; the baby sucks his thumb; △ &lt;d&gt;किसी का&lt;/d&gt; ~ &lt;d&gt;चूमना&lt;/d&gt; to flatter smb; &lt;d&gt;किसी को&lt;/d&gt; ~ &lt;d&gt;दिखाना&lt;/d&gt; to refuse point-blank, to defy smb. &lt;b&gt;2&lt;/b&gt;. &lt;d&gt;पैर का&lt;/d&gt; ~ the great toe. \\n\\t\\t\\t&lt;/div&gt;</td>\n",
       "    </tr>\n",
       "    <tr>\n",
       "      <th>19</th>\n",
       "      <td>अँगूठी am̐gūṭhī</td>\n",
       "      <td>&lt;div&gt;  \\n\\t\\t\\t\\n\\t\\t\\t&lt;hw&gt;&lt;d&gt;&lt;b&gt;अँगूठी&lt;/b&gt; &lt;b&gt;am̐gūṭhī&lt;/b&gt;&lt;/d&gt;&lt;/hw&gt; &lt;i&gt;f&lt;sup&gt;c&lt;/sup&gt;&lt;/i&gt; (finger-)ring [&lt;d&gt;शादीवाली&lt;/d&gt; wedding, &lt;d&gt;सादा&lt;/d&gt; plain, &lt;d&gt;सोने की&lt;/d&gt; gold]; ~ &lt;d&gt;का नगीना&lt;/d&gt; ring-stone; &lt;d&gt;उँगली में&lt;/d&gt; ~ &lt;d&gt;पहनना&lt;/d&gt; to wear a — on a finger. \\n\\t\\t\\t&lt;/div&gt;</td>\n",
       "    </tr>\n",
       "  </tbody>\n",
       "</table>\n",
       "</div>"
      ],
      "text/plain": [
       "                headword  \\\n",
       "0               अंक aṅka   \n",
       "1   अंक-गणित aṅka-gaṇita   \n",
       "2           अंकित aṅkita   \n",
       "3           अंकुर aṅkura   \n",
       "4       अंकुरित aṅkurita   \n",
       "5           अंकुश aṅkuśa   \n",
       "6               अंग aṅga   \n",
       "7        अँगड़ाई am̐gaṛāī   \n",
       "8       अँगरेज़ am̐garēza   \n",
       "9      अँगरेज़ी am̐garēzī   \n",
       "10      अँगहीन am̐gahīna   \n",
       "11          अंगार aṅgāra   \n",
       "12         अंगारा aṅgārā   \n",
       "13        अँगिया am̐giyā   \n",
       "14      अंगीकार aṅgīkāra   \n",
       "15       अँगीठी am̐gīṭhī   \n",
       "16          अंगुल aṅgula   \n",
       "17         अंगुली aṅgulī   \n",
       "18       अँगूठा am̐gūṭhā   \n",
       "19       अँगूठी am̐gūṭhī   \n",
       "\n",
       "                                                                                                                                                                                                                                                                                                                                                                                                                                                                                                                                                                                                                                                                                                                                                                                                                                                                                                                                                                                                                                                                                                                                  html  \n",
       "0   <div>  \\n\\t\\t\\t\\n\\t\\t\\t<hw><d><b>अंक</b> <b>aṅka</b></d></hw> <i>m<sup>c</sup></i> <b>1</b>. number, numerical figure (usu. pl.); <d>देवनागरी</d>/<d>रोमन</d> ~ Devanagari/ Roman figures; <d>अंकों में लिखना</d> to write in figures. <b>2</b>. (<d>परीक्षा में</d>) mark; <d>उसके अंग्रेज़ी में बहुत अच्छे</d> ~ <d>थे</d> he had very good —s in English; ~ <d>पत्र</d> <i>m</i>, ~ <d>सूची</d> <i>f</i> mark-sheet. <b>3</b>. (<d>खेलों में</d>) point; ~ <d>गँवाना</d> to lose —s; <d>इतने अंकों पर हराया</d> beat/defeated by so many —s; <d>क्वथनांक</d> boiling —; <d>हिमांक</d> freezing —. <b>4</b>. (<d>चिह्न</d>) sign, mark; ~ <d>लगाना</d> to mark. <b>5</b>. (<d>गोद</d>) lap, bosom; ~ <d>में लेना</d> to take in one's lap; △ <d>किसी को</d> ~ <d>देना</d> (<d>भरना</d>, <d>लगाना</d>) to take smb to bosom, to embrace smb. <b>6</b>. act; <d>इस नाटक में पाँच</d> ~ <d>हैं</d> this drama/play has five —s. <b>7</b>. number, issue; <d>पत्रिका का</d> ~ — of a magazine/journal; <d>विशेष</d> ~ special —; <d>पिछला</d> (<d>गत</d>) ~ last issue, back number. [syn. for 1, 2, 3, 7 <d>नंबर</d>] \\n\\t\\t\\t</div>  \n",
       "1                                                                                                                                                                                                                                                                                                                                                                                                                                                                                                                                                                                                                                                                                                                                                                                                                 <div>  \\n\\t\\t\\t\\n\\t\\t\\t<hw><d><b>अंक-गणित</b> <b>aṅka-gaṇita</b></d></hw> <i>mu</i>, <d>अंकविद्या</d> aṅk·vidyā <i>f</i> (no pl. or obl.) arithmetic; ~ <d>की अभ्यास-पुस्तिका</d> — exercise book; <d>लड़का</d> ~ <d>में होशियार</d>/ <d>कमज़ोर है</d> the boy is clever/weak in —. [syn. <d>हिसाब</d>] \\n\\t\\t\\t</div>  \n",
       "2                                                                                                                                                                                                                                                                                                                                                                                                                                                                                                                                                                                                                                                                                                                                                                                                                                <div>  \\n\\t\\t\\t\\n\\t\\t\\t<hw><d><b>अंकित</b> <b>aṅkita</b></d></hw> pp. from <d>अंक</d>, <i>a</i> written, inscribed, marked; ~ <d>मूल्य</d> marked price, nominal value; ~ <d>करना</d> to mark, to inscribe; <d>अँगूठीं पर रामनाम</d> ~ <d>था</d> Ram's name was inscribed on the ring. \\n\\t\\t\\t</div>  \n",
       "3                                                                                                                                                                                                                                                                                                                                                                                                                                                                                                                                                                                                                                                                                                                                                                                             <div>  \\n\\t\\t\\t\\n\\t\\t\\t<hw><d><b>अंकुर</b> <b>aṅkura</b></d></hw> <i>m<sup>c</sup></i> sprout, shoot [<d>नया</d> new, <d>हरा</d> green]; <d>पौधे में</d> ~ <d>आता है</d> (<d>जमता है</d>), <d>पौधे से</d> ~ <d>फूटता है</d> (<d>निकलता है</d>) the plant sprouts, puts forth shoots; ~ <d>जमाना</d> to plant out sprouts. \\n\\t\\t\\t</div>  \n",
       "4                                                                                                                                                                                                                                                                                                                                                                                                                                                                                                                                                                                                                                                                                                                                                                                                                                                                                               <div>  \\n\\t\\t\\t\\n\\t\\t\\t<hw><d><b>अंकुरित</b> <b>aṅkurita</b></d></hw> pp. fr. <d>अंकुर</d>, <i>a</i> sprouted, having sprouts; ~ <d>होना</d> to sprout, to put forth shoots; (<i>fig</i>.) ~ <d>यौवन</d> budding youth. \\n\\t\\t\\t</div>  \n",
       "5                                                                                                                                                                                                                                                                                                                                                                                                                                                                                                                                                                                                                                                            <div>  \\n\\t\\t\\t\\n\\t\\t\\t<hw><d><b>अंकुश</b> <b>aṅkuśa</b></d></hw> <i>m<sup>c</sup></i> (gen. singular) <b>1</b>. (elephant driver's) hook, goad; <d>हाथी को चलाने के लिए</d> ~ <d>मारना</d>/ <d>लगाना</d> thrust a hook in to prod an elephant. <b>2</b>. (<i>fig</i>., <d>नियंत्रण</d>) restraint, control; ~ <d>के नीचे छटपटाना</d> to fret under a restraint; <d>किसी को</d> ~ <d>में रखना</d>, <d>किसी पर</d> ~ <d>रखना</d> to keep smb under control. \\n\\t\\t\\t</div>  \n",
       "6                                                                                                                                                                      <div>  \\n\\t\\t\\t\\n\\t\\t\\t<hw><d><b>अंग</b> <b>aṅga</b></d></hw> <i>m<sup>c</sup></i> <b>1</b>. (<d>शरीर का</d>) limb, organ/part of the body; <d>कान</d>, <d>नाक</d>, <d>हाथ</d>, <d>पाँव आदि शरीर के अंग हैं</d> ears, nose, hands, feet, etc. are —s of the body; <d>कृत्रिम</d> ~ artificial limb; <d>गुप्त</d> ~ private parts; <d>मेरा अंग-अंग दुखता है</d> every — of my body pains; ~ <d>मोड़ना</d> to turn/twist the body; △ ~ <d>लगना</d> (a) to be embraced; <d>आओ मेरे</d> ~ <d>लग जाओ</d> come and embrace me; (b) to be assimilated; <d>खाया-पिया</d> ~ <d>नहीं लगता</d> food is not assimilated; ~ <d>लगाना</d> embrace; <d>माँ ने बच्चे को</d> ~ <d>लगा लिया</d> the mother —d the child. <b>2</b>. (<d>भाग</d>) part, member; <d>अभिन्‍न</d> ~ integral part; <d>संपूर्ण के</d> ~ parts/members of the whole. <b>3</b>. (<d>शाखा</d>) branch, area; <d>विज्ञान के</d> ~ areas of science; <d>साहित्य का</d> ~ branch of literature. \\n\\t\\t\\t</div>  \n",
       "7                                                                                                                                                                                                                                                                                                                                                                                                                                                                                                                                                                                                                                                                                                                                                                           <div>  \\n\\t\\t\\t\\n\\t\\t\\t<hw><d><b>अँगड़ाई</b> <b>am̐gaṛāī</b></d></hw> <i>f<sup>c</sup></i> (pl. <d>अँगड़ाइयाँ</d>) stretching (the body), twisting (the limbs); <d>बुखार में</d> ~ <d>आती है</d> the body twists in fever; <d>बाघ ने</d> ~ <d>ली</d> the tiger twisted his body; ~ <d>लेना</d>/<d>तोडना</d> to stretch the body, to oscitate. \\n\\t\\t\\t</div>  \n",
       "8                                                                                                                                                                                                                                                                                                                                                                                                                                                                                                                                                                                                                                                                                                                                                                                                                                                                                                                                                                                                                                     <div>  \\n\\t\\t\\t\\n\\t\\t\\t<hw><d><b>अँगरेज़</b> <b>am̐garēza</b></d></hw> <d>दे० अँग्रेज़</d>\\n</div>  \n",
       "9                                                                                                                                                                                                                                                                                                                                                                                                                                                                                                                                                                                                                                                                                                                                                                                                                                                                                                                                                                                                                                   <div>  \\n\\t\\t\\t\\n\\t\\t\\t<hw><d><b>अँगरेज़ी</b> <b>am̐garēzī</b></d></hw> <d>दे० अँग्रेज़ी</d>\\n</div>  \n",
       "10                                                                                                                                                                                                                                                                                                                                                                                                                                                                                                                                                                                                                                                                                                                                                                                                                                                                                                                                <div>  \\n\\t\\t\\t\\n\\t\\t\\t<hw><d><b>अँगहीन</b> <b>am̐gahīna</b></d></hw> <i>a</i> maimed, crippled [<d>पुरुष</d> man, <d>स्त्री</d> woman, <d>बच्चा</d> child]. [syn. <d>लूला-लँगड़ा</d>] \\n\\t\\t\\t</div>  \n",
       "11                                                                                                                                                                                                                                                                                                                                                                                                                                                                                                                                                                                                                                                                                                                                                                                                                                                                                                                                            <div>  \\n\\t\\t\\t\\n\\t\\t\\t<hw><d><b>अंगार</b> <b>aṅgāra</b></d></hw> <i>m<sup>c</sup></i> embers; △ ~ <d>उगलना</d> to be fiery in speech. [more popular <d>अंगारा</d> q. v.] \\n\\t\\t\\t</div>  \n",
       "12                                                                                                                                                                                                                                                                                                                                                                                                                  <div>  \\n\\t\\t\\t\\n\\t\\t\\t<hw><d><b>अंगारा</b> <b>aṅgārā</b></d></hw> <i>m<sup>c</sup></i> live coal, burning charcoal, embers; <d>एक</d> ~ <d>उसके कपड़ों पर आ पड़ा</d> a burning coal fell on his dress; <d>लाल</d> ~ red hot coal, (fig.) red as a burning coal, bright red; △ ~ <d>बनना</d> to be red with rage, etc.; <d>अँगारे उगलना</d> = <d>अंगार उगलना</d>; <d>अँगारे बरसना</d> to be excessively hot (said of the weather); <d>आज तो अँगारे बरस रहे हैं</d> it is awfully hot to-day; <d>अँगारों पर पैर रखना</d> to jump into hot waters; <d>अँगारों पर लोटना</d> to be on thorns, to be agitated; <d>सारी रात चिंता से अँगारों पर लोटता रहा</d> I was restless through anxiety all the night. \\n\\t\\t\\t</div>  \n",
       "13                                                                                                                                                                                                                                                                                                                                                                                                                                                                                                                                                                                                                                                                                                                                                                                                                            <div>  \\n\\t\\t\\t\\n\\t\\t\\t<hw><d><b>अँगिया</b> <b>am̐giyā</b></d></hw> <i>f<sup>c</sup></i> (pl. <d>अँगियाँ</d>) bodice, corset [<d>नये फ़ैशन की</d> of the new fashion, <d>नायलन की</d> made of nylon, <d>रेशमी</d> silk (en)] ~ <d>पहनना</d> to put on a —; ~ <d>उतारना</d> to put off a —. \\n\\t\\t\\t</div>  \n",
       "14                                                                                                                                                                                                                                                                                                                                                                                                                                                                                                                                                                                                                                                                                                                                                                                                                                                                                                                   <div>  \\n\\t\\t\\t\\n\\t\\t\\t<hw><d><b>अंगीकार</b> <b>aṅgīkāra</b></d></hw> <i>mu</i> <d>किसी को</d> ~ <d>करना</d> to own smb, to take smb to oneself; <d>किसी बात को</d> ~ <d>करना</d> to confess smth. \\n\\t\\t\\t</div>  \n",
       "15                                                                                                                                                                                                                                                                                                                                                                                                                                                                                                                                                                                                                                                                                                                                   <div>  \\n\\t\\t\\t\\n\\t\\t\\t<hw><d><b>अँगीठी</b> <b>am̐gīṭhī</b></d></hw> <i>f<sup>c</sup></i> (bigger <d>अँगीठा</d> <i>m</i>) fireplace, brazier [<d>लोहे की</d> iron, <d>मिट्टी की</d> earthen] <d>बिजली की</d> ~ electric stove; <d>जलती है</d> burns, <d>बुझती है</d> goes out, is off; <d>यह हाँडी</d> ~ <d>पर रख दो</d> put this earthen pot on the —. [cf. <d>भट्ठी</d> furnace] \\n\\t\\t\\t</div>  \n",
       "16                                                                                                                                                                                                                                                                                                                                                                                                                                                                                                                                                                                                                                                                                                                                                                                                                                                                                                          <div>  \\n\\t\\t\\t\\n\\t\\t\\t<hw><d><b>अंगुल</b> <b>aṅgula</b></d></hw> <i>m<sup>c</sup></i> finger-breadth; <d>एक</d> ~ <d>मोटा</d> one-finger-breadth thick, <d>चार</d> ~ <d>लंबा</d> four-finger-breadth long. \\n\\t\\t\\t</div>  \n",
       "17                                                                                                                                                                                                                                                                                                                                                                                                                                                                                                                                                                                                                                                                                                                                                                          <div>  \\n\\t\\t\\t\\n\\t\\t\\t<hw><d><b>अंगुली</b> <b>aṅgulī</b></d></hw> <i>f<sup>c</sup></i> = <d>उँगली</d>; as a rule used in Sanskrit contexts: <d>तर्जनी</d> (~) forefinger, <d>मध्यमा</d> (~) middle finger, <d>अनामिका</d> (~) ring-finger, <d>कनिष्ठा</d> / <d>कनिष्ठिका</d> (~) the little finger; ~ <d>संकेत</d> pointing with a finger. \\n\\t\\t\\t</div>  \n",
       "18                                                                                                                                                                                                                                                                                                                                                                                                                                                                                                                                                                                                                                                                                                                                             <div>  \\n\\t\\t\\t\\n\\t\\t\\t<hw><d><b>अँगूठा</b> <b>am̐gūṭhā</b></d></hw> <i>m<sup>c</sup></i> <b>1</b>. thumb; <d>अँगूठे का निशान</d> thumb-impression; <d>बच्चा</d> ~ <d>चूसता है</d> the baby sucks his thumb; △ <d>किसी का</d> ~ <d>चूमना</d> to flatter smb; <d>किसी को</d> ~ <d>दिखाना</d> to refuse point-blank, to defy smb. <b>2</b>. <d>पैर का</d> ~ the great toe. \\n\\t\\t\\t</div>  \n",
       "19                                                                                                                                                                                                                                                                                                                                                                                                                                                                                                                                                                                                                                                                                                                                                                                                                                                    <div>  \\n\\t\\t\\t\\n\\t\\t\\t<hw><d><b>अँगूठी</b> <b>am̐gūṭhī</b></d></hw> <i>f<sup>c</sup></i> (finger-)ring [<d>शादीवाली</d> wedding, <d>सादा</d> plain, <d>सोने की</d> gold]; ~ <d>का नगीना</d> ring-stone; <d>उँगली में</d> ~ <d>पहनना</d> to wear a — on a finger. \\n\\t\\t\\t</div>  "
      ]
     },
     "execution_count": 12,
     "metadata": {},
     "output_type": "execute_result"
    }
   ],
   "source": [
    "sorted_entries[:20]"
   ]
  }
 ],
 "metadata": {
  "kernelspec": {
   "display_name": "conda-forge",
   "language": "python",
   "name": "conda-forge"
  },
  "language_info": {
   "codemirror_mode": {
    "name": "ipython",
    "version": 3
   },
   "file_extension": ".py",
   "mimetype": "text/x-python",
   "name": "python",
   "nbconvert_exporter": "python",
   "pygments_lexer": "ipython3",
   "version": "3.9.7"
  }
 },
 "nbformat": 4,
 "nbformat_minor": 2
}
