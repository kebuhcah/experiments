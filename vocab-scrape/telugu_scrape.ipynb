{
 "cells": [
  {
   "cell_type": "code",
   "execution_count": 2,
   "metadata": {},
   "outputs": [],
   "source": [
    "import re\n",
    "import requests\n",
    "from bs4 import BeautifulSoup, NavigableString\n",
    "import pandas as pd\n",
    "from tqdm import tqdm\n",
    "\n",
    "# page nos. 1 to 574\n",
    "telugu_url = 'https://dsal.uchicago.edu/cgi-bin/app/gwynn_query.py?page='"
   ]
  },
  {
   "cell_type": "code",
   "execution_count": 3,
   "metadata": {},
   "outputs": [],
   "source": [
    "soups = {}\n",
    "\n",
    "def get_soup(page):\n",
    "    if page in soups:\n",
    "        return soups[page]\n",
    "    \n",
    "    res = requests.get(telugu_url + str(page))\n",
    "    soup = BeautifulSoup(res.text)\n",
    "    soups[page] = soup\n",
    "    return soup\n"
   ]
  },
  {
   "cell_type": "code",
   "execution_count": 4,
   "metadata": {},
   "outputs": [
    {
     "name": "stderr",
     "output_type": "stream",
     "text": [
      "100%|██████████| 574/574 [04:46<00:00,  2.00it/s]\n"
     ]
    }
   ],
   "source": [
    "for i in tqdm(range(1,575)):\n",
    "    get_soup(i)"
   ]
  },
  {
   "cell_type": "code",
   "execution_count": 5,
   "metadata": {},
   "outputs": [
    {
     "ename": "RecursionError",
     "evalue": "maximum recursion depth exceeded",
     "output_type": "error",
     "traceback": [
      "\u001b[0;31m---------------------------------------------------------------------------\u001b[0m",
      "\u001b[0;31mRecursionError\u001b[0m                            Traceback (most recent call last)",
      "Input \u001b[0;32mIn [5]\u001b[0m, in \u001b[0;36m<module>\u001b[0;34m\u001b[0m\n\u001b[1;32m      1\u001b[0m \u001b[38;5;28;01mimport\u001b[39;00m \u001b[38;5;21;01mpickle\u001b[39;00m\n\u001b[0;32m----> 2\u001b[0m \u001b[43mpickle\u001b[49m\u001b[38;5;241;43m.\u001b[39;49m\u001b[43mdump\u001b[49m\u001b[43m(\u001b[49m\u001b[43msoups\u001b[49m\u001b[43m,\u001b[49m\u001b[43m \u001b[49m\u001b[38;5;28;43mopen\u001b[39;49m\u001b[43m(\u001b[49m\u001b[38;5;124;43m'\u001b[39;49m\u001b[38;5;124;43m./telugu_soups.pickle\u001b[39;49m\u001b[38;5;124;43m'\u001b[39;49m\u001b[43m,\u001b[49m\u001b[43m \u001b[49m\u001b[38;5;124;43m'\u001b[39;49m\u001b[38;5;124;43mwb\u001b[39;49m\u001b[38;5;124;43m'\u001b[39;49m\u001b[43m)\u001b[49m\u001b[43m)\u001b[49m\n",
      "\u001b[0;31mRecursionError\u001b[0m: maximum recursion depth exceeded"
     ]
    }
   ],
   "source": [
    "import pickle\n",
    "pickle.dump(soups, open('./telugu_soups.pickle', 'wb'))"
   ]
  },
  {
   "cell_type": "code",
   "execution_count": 6,
   "metadata": {},
   "outputs": [],
   "source": [
    "pd.set_option('display.max_colwidth', 1000)\n",
    "pd.set_option('display.max_rows', None)"
   ]
  },
  {
   "cell_type": "code",
   "execution_count": 7,
   "metadata": {},
   "outputs": [],
   "source": [
    "def process_entry(div):\n",
    "    return {\n",
    "        'telugu': div.select_one('te').text.strip(),\n",
    "        'transliteration': ''.join(s.strip() for s in div.select_one('hw').children if type(s) == NavigableString),\n",
    "        'subentry_count': len([1 for b in div.select('b') if b.text.strip().isnumeric() or len(b.text.strip().split())>1]),\n",
    "        'text': div.text.strip()\n",
    "    }\n",
    "\n",
    "sorted_entries = pd.concat([pd.DataFrame([process_entry(div) for div in soups[page].select('div.hw_result > div')]) for page in soups.keys()], ignore_index=True).sort_values('subentry_count', ascending=False)"
   ]
  },
  {
   "cell_type": "code",
   "execution_count": 22,
   "metadata": {},
   "outputs": [
    {
     "data": {
      "text/html": [
       "<div>\n",
       "<style scoped>\n",
       "    .dataframe tbody tr th:only-of-type {\n",
       "        vertical-align: middle;\n",
       "    }\n",
       "\n",
       "    .dataframe tbody tr th {\n",
       "        vertical-align: top;\n",
       "    }\n",
       "\n",
       "    .dataframe thead th {\n",
       "        text-align: right;\n",
       "    }\n",
       "</style>\n",
       "<table border=\"1\" class=\"dataframe\">\n",
       "  <thead>\n",
       "    <tr style=\"text-align: right;\">\n",
       "      <th></th>\n",
       "      <th>telugu</th>\n",
       "      <th>transliteration</th>\n",
       "      <th>subentry_count</th>\n",
       "      <th>text</th>\n",
       "    </tr>\n",
       "  </thead>\n",
       "  <tbody>\n",
       "    <tr>\n",
       "      <th>14292</th>\n",
       "      <td>నిధి</td>\n",
       "      <td>nidhi</td>\n",
       "      <td>5</td>\n",
       "      <td>నిధి nidhi nidhi n. 1 fund. 2 treasure house, repository. 3 pl. nidhulu reserves. 4 fig. fund or store of good qualities; cadarangamloo ~ expert at chess.</td>\n",
       "    </tr>\n",
       "    <tr>\n",
       "      <th>3271</th>\n",
       "      <td>ఇలాకా</td>\n",
       "      <td>ilākā</td>\n",
       "      <td>5</td>\n",
       "      <td>ఇలాకా ilākā ilaakaa n. 1 territory. 2 jurisdiction. 3 belonging; neenu aayanagaari ~ leNDi I am one of his men; aame waaDi ~ loo undi she is being kept by him.</td>\n",
       "    </tr>\n",
       "    <tr>\n",
       "      <th>2944</th>\n",
       "      <td>ఆశ్రయం</td>\n",
       "      <td>āśrayam</td>\n",
       "      <td>5</td>\n",
       "      <td>ఆశ్రయం āśrayam aaśrayam n. 1 refuge, asylum, retreat. 2 place, abode. 3 support, protection, patronage; naaku ~ iccEEDu he gave me protection. 4 dependence.</td>\n",
       "    </tr>\n",
       "    <tr>\n",
       "      <th>19884</th>\n",
       "      <td>మరగు</td>\n",
       "      <td>maragu</td>\n",
       "      <td>6</td>\n",
       "      <td>మరగు maragu maragu v.i. and t. 1 to have a liking or fondness for 2 to have a taste for, be addicted to, be keen on, go in for; sukham ~ to be fond of living at ease, take life easy; pillalloo caduwukonee waaLLu aaTalu maragaranii, aaTalu marigina waaLLu cadawaranii aawiDaki gaTTi nammakam it was her firm belief that children who studied were not keen on games, while those who were keen on games did not study; see ruci ~.</td>\n",
       "    </tr>\n",
       "    <tr>\n",
       "      <th>16934</th>\n",
       "      <td>పెంకు</td>\n",
       "      <td>peṅku</td>\n",
       "      <td>6</td>\n",
       "      <td>పెంకు peṅku penku n. 1 tile; maaDu ~ colloq. top of the head. 2 piece of broken pottery or glass. 3 shell of a fruit; welaga ~ shell of a wood apple. 4 (also penka) flat pan for parching grain or for frying.</td>\n",
       "    </tr>\n",
       "    <tr>\n",
       "      <th>4345</th>\n",
       "      <td>ఊహ</td>\n",
       "      <td>ūha</td>\n",
       "      <td>6</td>\n",
       "      <td>ఊహ ūha uuha n. 1 thought, idea, concept. 2 reasoning, inference. 3 guess, conjecture, supposition. 4 imagination, fancy. 5 contrivance. 6 awareness; see graahi.</td>\n",
       "    </tr>\n",
       "    <tr>\n",
       "      <th>19198</th>\n",
       "      <td>భావన</td>\n",
       "      <td>bhāvana</td>\n",
       "      <td>6</td>\n",
       "      <td>భావన bhāvana bhaawana n. 1 thought, thinking, idea, concept; oka pratyeeka paaribhaaSika ~ ku oka bhaaSaloo sarayna maaTa leekapoowaccu a language may not have the right word for a particular technical concept; pekkumandi madhyawargaalawaari ~ loo swaraajyam sukhajiiwanaaniki paryaayapadam aypooyindi in the thinking of many middle class people self-government became synonymous with wellbeing. 2 feeling; preema ~ lu feelings of love. 3 process followed in Ayurvedic medicine of steeping an ingredient many times in the juice of another (e.g., ginger or cummin seed in limejuice).</td>\n",
       "    </tr>\n",
       "    <tr>\n",
       "      <th>16029</th>\n",
       "      <td>పాకు</td>\n",
       "      <td>,pāku, prāku</td>\n",
       "      <td>7</td>\n",
       "      <td>పాకు, ప్రాకు pāku, prāku paaku1, praaku v.i. 1 to creep, crawl. 2 (of plants) to climb. 3 fig. to spread, extend, find its way to, affect; matawibheedaalu deeśamloo wiwidha praantaalaku paakEEyi religious differences spread to various parts of country; pleeg wyaadhi prapancam antaTaa paakindi plague spread over the whole world; unna peTTubaDulu paTTaNaalaku ~ tunnaayi what capital there is finds its way to the towns; nayraaśyam iiyanaku kuuDaa praakindi despair affected him also.</td>\n",
       "    </tr>\n",
       "    <tr>\n",
       "      <th>11485</th>\n",
       "      <td>తిన్నగా</td>\n",
       "      <td>tinnagā</td>\n",
       "      <td>8</td>\n",
       "      <td>తిన్నగా tinnagā tinnagaa adv. 1 straight, direct[ly]; ~ weLLaNDi keep straight on. 2 honestly, uprightly, fairly, properly; ~ sampaadincu to earn by fair means; ~ uNDu to behave properly. 3 gently, slowly, steadily. 4 (of health) well, all right, normal; mii aaroogyam ~ undaa? is your health all right? or are you keeping well?</td>\n",
       "    </tr>\n",
       "    <tr>\n",
       "      <th>23796</th>\n",
       "      <td>విరుచు</td>\n",
       "      <td>virucu</td>\n",
       "      <td>11</td>\n",
       "      <td>విరుచు virucu wirucu v.t. 1 to break [off], snap [off]; naa maaTalu madhyaloonee wiriceesEEDu he interrupted what I was saying. 2 to break to pieces. 3 to twist; o.-i ceyyi ~ to twist s.o.'s arm. 4 pedawi ~ to curl o.'s lip in scorn or disapproval. 5 to curdle (milk). 6 to counteract (poison). 7 to separate words from each other; akkaDakkaDa maaTalu tappugaa wirustuu sundaram uttaram antaa cadlwEEDu making mistakes in some places over the separation of words, Sundaram read the whole letter.</td>\n",
       "    </tr>\n",
       "  </tbody>\n",
       "</table>\n",
       "</div>"
      ],
      "text/plain": [
       "        telugu transliteration  subentry_count  \\\n",
       "14292     నిధి           nidhi               5   \n",
       "3271     ఇలాకా           ilākā               5   \n",
       "2944    ఆశ్రయం         āśrayam               5   \n",
       "19884     మరగు          maragu               6   \n",
       "16934    పెంకు           peṅku               6   \n",
       "4345        ఊహ             ūha               6   \n",
       "19198     భావన         bhāvana               6   \n",
       "16029     పాకు    ,pāku, prāku               7   \n",
       "11485  తిన్నగా         tinnagā               8   \n",
       "23796   విరుచు          virucu              11   \n",
       "\n",
       "                                                                                                                                                                                                                                                                                                                                                                                                                                                                                                                                                                                                         text  \n",
       "14292                                                                                                                                                                                                                                                                                                                                                                                                                                              నిధి nidhi nidhi n. 1 fund. 2 treasure house, repository. 3 pl. nidhulu reserves. 4 fig. fund or store of good qualities; cadarangamloo ~ expert at chess.  \n",
       "3271                                                                                                                                                                                                                                                                                                                                                                                                                                          ఇలాకా ilākā ilaakaa n. 1 territory. 2 jurisdiction. 3 belonging; neenu aayanagaari ~ leNDi I am one of his men; aame waaDi ~ loo undi she is being kept by him.  \n",
       "2944                                                                                                                                                                                                                                                                                                                                                                                                                                             ఆశ్రయం āśrayam aaśrayam n. 1 refuge, asylum, retreat. 2 place, abode. 3 support, protection, patronage; naaku ~ iccEEDu he gave me protection. 4 dependence.  \n",
       "19884                                                                                                                                                               మరగు maragu maragu v.i. and t. 1 to have a liking or fondness for 2 to have a taste for, be addicted to, be keen on, go in for; sukham ~ to be fond of living at ease, take life easy; pillalloo caduwukonee waaLLu aaTalu maragaranii, aaTalu marigina waaLLu cadawaranii aawiDaki gaTTi nammakam it was her firm belief that children who studied were not keen on games, while those who were keen on games did not study; see ruci ~.  \n",
       "16934                                                                                                                                                                                                                                                                                                                                                                                         పెంకు peṅku penku n. 1 tile; maaDu ~ colloq. top of the head. 2 piece of broken pottery or glass. 3 shell of a fruit; welaga ~ shell of a wood apple. 4 (also penka) flat pan for parching grain or for frying.  \n",
       "4345                                                                                                                                                                                                                                                                                                                                                                                                                                         ఊహ ūha uuha n. 1 thought, idea, concept. 2 reasoning, inference. 3 guess, conjecture, supposition. 4 imagination, fancy. 5 contrivance. 6 awareness; see graahi.  \n",
       "19198  భావన bhāvana bhaawana n. 1 thought, thinking, idea, concept; oka pratyeeka paaribhaaSika ~ ku oka bhaaSaloo sarayna maaTa leekapoowaccu a language may not have the right word for a particular technical concept; pekkumandi madhyawargaalawaari ~ loo swaraajyam sukhajiiwanaaniki paryaayapadam aypooyindi in the thinking of many middle class people self-government became synonymous with wellbeing. 2 feeling; preema ~ lu feelings of love. 3 process followed in Ayurvedic medicine of steeping an ingredient many times in the juice of another (e.g., ginger or cummin seed in limejuice).  \n",
       "16029                                                                                                    పాకు, ప్రాకు pāku, prāku paaku1, praaku v.i. 1 to creep, crawl. 2 (of plants) to climb. 3 fig. to spread, extend, find its way to, affect; matawibheedaalu deeśamloo wiwidha praantaalaku paakEEyi religious differences spread to various parts of country; pleeg wyaadhi prapancam antaTaa paakindi plague spread over the whole world; unna peTTubaDulu paTTaNaalaku ~ tunnaayi what capital there is finds its way to the towns; nayraaśyam iiyanaku kuuDaa praakindi despair affected him also.  \n",
       "11485                                                                                                                                                                                                                                                                తిన్నగా tinnagā tinnagaa adv. 1 straight, direct[ly]; ~ weLLaNDi keep straight on. 2 honestly, uprightly, fairly, properly; ~ sampaadincu to earn by fair means; ~ uNDu to behave properly. 3 gently, slowly, steadily. 4 (of health) well, all right, normal; mii aaroogyam ~ undaa? is your health all right? or are you keeping well?  \n",
       "23796                                                                                         విరుచు virucu wirucu v.t. 1 to break [off], snap [off]; naa maaTalu madhyaloonee wiriceesEEDu he interrupted what I was saying. 2 to break to pieces. 3 to twist; o.-i ceyyi ~ to twist s.o.'s arm. 4 pedawi ~ to curl o.'s lip in scorn or disapproval. 5 to curdle (milk). 6 to counteract (poison). 7 to separate words from each other; akkaDakkaDa maaTalu tappugaa wirustuu sundaram uttaram antaa cadlwEEDu making mistakes in some places over the separation of words, Sundaram read the whole letter.  "
      ]
     },
     "execution_count": 22,
     "metadata": {},
     "output_type": "execute_result"
    }
   ],
   "source": [
    "sorted_entries[sorted_entries.subentry_count > 4].sample(10).sort_values('subentry_count')"
   ]
  }
 ],
 "metadata": {
  "kernelspec": {
   "display_name": "conda-forge",
   "language": "python",
   "name": "conda-forge"
  },
  "language_info": {
   "codemirror_mode": {
    "name": "ipython",
    "version": 3
   },
   "file_extension": ".py",
   "mimetype": "text/x-python",
   "name": "python",
   "nbconvert_exporter": "python",
   "pygments_lexer": "ipython3",
   "version": "3.9.7"
  }
 },
 "nbformat": 4,
 "nbformat_minor": 2
}
