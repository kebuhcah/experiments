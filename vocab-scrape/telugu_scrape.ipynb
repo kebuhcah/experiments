{
 "cells": [
  {
   "cell_type": "code",
   "execution_count": 2,
   "metadata": {},
   "outputs": [],
   "source": [
    "import re\n",
    "import requests\n",
    "from bs4 import BeautifulSoup, NavigableString\n",
    "import pandas as pd\n",
    "from tqdm import tqdm\n",
    "\n",
    "# page nos. 1 to 574\n",
    "telugu_url = 'https://dsal.uchicago.edu/cgi-bin/app/gwynn_query.py?page='"
   ]
  },
  {
   "cell_type": "code",
   "execution_count": 3,
   "metadata": {},
   "outputs": [],
   "source": [
    "soups = {}\n",
    "\n",
    "def get_soup(page):\n",
    "    if page in soups:\n",
    "        return soups[page]\n",
    "    \n",
    "    res = requests.get(telugu_url + str(page))\n",
    "    soup = BeautifulSoup(res.text)\n",
    "    soups[page] = soup\n",
    "    return soup\n"
   ]
  },
  {
   "cell_type": "code",
   "execution_count": 4,
   "metadata": {},
   "outputs": [
    {
     "name": "stderr",
     "output_type": "stream",
     "text": [
      "100%|██████████| 574/574 [04:50<00:00,  1.98it/s]\n"
     ]
    }
   ],
   "source": [
    "for i in tqdm(range(1,575)):\n",
    "    get_soup(i)"
   ]
  },
  {
   "cell_type": "code",
   "execution_count": 5,
   "metadata": {},
   "outputs": [
    {
     "ename": "RecursionError",
     "evalue": "maximum recursion depth exceeded",
     "output_type": "error",
     "traceback": [
      "\u001b[0;31m---------------------------------------------------------------------------\u001b[0m",
      "\u001b[0;31mRecursionError\u001b[0m                            Traceback (most recent call last)",
      "Input \u001b[0;32mIn [5]\u001b[0m, in \u001b[0;36m<module>\u001b[0;34m\u001b[0m\n\u001b[1;32m      1\u001b[0m \u001b[38;5;28;01mimport\u001b[39;00m \u001b[38;5;21;01mpickle\u001b[39;00m\n\u001b[0;32m----> 2\u001b[0m \u001b[43mpickle\u001b[49m\u001b[38;5;241;43m.\u001b[39;49m\u001b[43mdump\u001b[49m\u001b[43m(\u001b[49m\u001b[43msoups\u001b[49m\u001b[43m,\u001b[49m\u001b[43m \u001b[49m\u001b[38;5;28;43mopen\u001b[39;49m\u001b[43m(\u001b[49m\u001b[38;5;124;43m'\u001b[39;49m\u001b[38;5;124;43m./telugu_soups.pickle\u001b[39;49m\u001b[38;5;124;43m'\u001b[39;49m\u001b[43m,\u001b[49m\u001b[43m \u001b[49m\u001b[38;5;124;43m'\u001b[39;49m\u001b[38;5;124;43mwb\u001b[39;49m\u001b[38;5;124;43m'\u001b[39;49m\u001b[43m)\u001b[49m\u001b[43m)\u001b[49m\n",
      "\u001b[0;31mRecursionError\u001b[0m: maximum recursion depth exceeded"
     ]
    }
   ],
   "source": [
    "import pickle\n",
    "pickle.dump(soups, open('./telugu_soups.pickle', 'wb'))"
   ]
  },
  {
   "cell_type": "code",
   "execution_count": 10,
   "metadata": {},
   "outputs": [],
   "source": [
    "pd.set_option('display.max_colwidth', None)\n",
    "pd.set_option('display.max_rows', None)"
   ]
  },
  {
   "cell_type": "code",
   "execution_count": 43,
   "metadata": {},
   "outputs": [],
   "source": [
    "def process_entry(div):\n",
    "    return {\n",
    "        'telugu': div.select_one('te').text.strip(),\n",
    "        'transliteration': ''.join(s.strip() for s in div.select_one('hw').children if type(s) == NavigableString),\n",
    "        'subentry_count': len([1 for b in div.select('b') if b.text.strip().isnumeric() or len(b.text.strip().split())>1]),\n",
    "        'text': div.text.strip(),\n",
    "        'html': str(div)\n",
    "    }\n",
    "\n",
    "sorted_entries = pd.concat([pd.DataFrame([process_entry(div) for div in soups[page].select('div.hw_result > div')]) for page in soups.keys()], ignore_index=True).sort_values('subentry_count', ascending=False)"
   ]
  },
  {
   "cell_type": "code",
   "execution_count": 44,
   "metadata": {},
   "outputs": [
    {
     "data": {
      "text/html": [
       "<div>\n",
       "<style scoped>\n",
       "    .dataframe tbody tr th:only-of-type {\n",
       "        vertical-align: middle;\n",
       "    }\n",
       "\n",
       "    .dataframe tbody tr th {\n",
       "        vertical-align: top;\n",
       "    }\n",
       "\n",
       "    .dataframe thead th {\n",
       "        text-align: right;\n",
       "    }\n",
       "</style>\n",
       "<table border=\"1\" class=\"dataframe\">\n",
       "  <thead>\n",
       "    <tr style=\"text-align: right;\">\n",
       "      <th></th>\n",
       "      <th>telugu</th>\n",
       "      <th>transliteration</th>\n",
       "      <th>subentry_count</th>\n",
       "      <th>text</th>\n",
       "      <th>html</th>\n",
       "    </tr>\n",
       "  </thead>\n",
       "  <tbody>\n",
       "    <tr>\n",
       "      <th>15734</th>\n",
       "      <td>పరిభ్రమించు</td>\n",
       "      <td>paribhramiñcu</td>\n",
       "      <td>5</td>\n",
       "      <td>పరిభ్రమించు paribhramiñcu paribhramincu v.i. 1 to revolve, circle round. 2 to rotate, gyrate. 3 to wander about, go from place to place. 4 waaDi mati paribhramincindi his mind became unstable.</td>\n",
       "      <td>&lt;div&gt;  \\n\\t\\t\\t\\n\\t\\t\\t&lt;hw&gt;&lt;te&gt;పరిభ్రమించు&lt;/te&gt; paribhramiñcu&lt;/hw&gt; &lt;b&gt;paribhramincu&lt;/b&gt; &lt;i&gt;v.i&lt;/i&gt;. &lt;b&gt;1&lt;/b&gt; to revolve, circle round. &lt;b&gt;2&lt;/b&gt; to rotate, gyrate. &lt;b&gt;3&lt;/b&gt; to wander about, go from place to place. &lt;b&gt;4&lt;/b&gt; &lt;b&gt;waaDi mati paribhramincindi&lt;/b&gt; his mind became unstable. \\n\\t\\t\\t&lt;/div&gt;</td>\n",
       "    </tr>\n",
       "    <tr>\n",
       "      <th>26436</th>\n",
       "      <td>సాఫు</td>\n",
       "      <td>,sāphu, sāpu</td>\n",
       "      <td>5</td>\n",
       "      <td>సాఫు, సాపు sāphu, sāpu saaphu, saapu I. n. (also ~ prati) fair copy of s.g written. II. adj. 1 smooth, not wrinkled. 2 straight, ~ gaa niDupugaa unnakarra a long straight stick. 3 level.</td>\n",
       "      <td>&lt;div&gt;  \\n\\t\\t\\t\\n\\t\\t\\t&lt;hw&gt;&lt;te&gt;సాఫు&lt;/te&gt;, &lt;te&gt;సాపు&lt;/te&gt; sāphu, sāpu&lt;/hw&gt; &lt;b&gt;saaphu&lt;/b&gt;, &lt;b&gt;saapu&lt;/b&gt; I. &lt;i&gt;n&lt;/i&gt;. (&lt;i&gt;also&lt;/i&gt; &lt;b&gt;~ prati&lt;/b&gt;) fair copy of s.g written. II. &lt;i&gt;adj&lt;/i&gt;. &lt;b&gt;1&lt;/b&gt; smooth, not wrinkled. &lt;b&gt;2&lt;/b&gt; straight, &lt;b&gt;~ gaa niDupugaa unnakarra&lt;/b&gt; a long straight stick. &lt;b&gt;3&lt;/b&gt; level. \\n\\t\\t\\t&lt;/div&gt;</td>\n",
       "    </tr>\n",
       "    <tr>\n",
       "      <th>20008</th>\n",
       "      <td>మళ్లీ</td>\n",
       "      <td>,maḷlī, maḷlā</td>\n",
       "      <td>6</td>\n",
       "      <td>మళ్లీ, మళ్లా maḷlī, maḷlā maLLii, maLLaa advbl. particle 1 again. 2 but still, and yet, however; tanaku raamaayaNam aNTee nijam katha ani nammakam leedanii; ~ bhaarataanni wiśwasistaananii ceppEEru he said he did not believe that the Ramayana was a true story, but still he believed in the Mahabharata; nannu tiTTEEDu, ~ neenaNTee aayanaki preema leedani kaadu he scolded me but that is not to say that he had no love towards me.</td>\n",
       "      <td>&lt;div&gt;  \\n\\t\\t\\t\\n\\t\\t\\t&lt;hw&gt;&lt;te&gt;మళ్లీ&lt;/te&gt;, &lt;te&gt;మళ్లా&lt;/te&gt; maḷlī, maḷlā&lt;/hw&gt; &lt;b&gt;maLLii&lt;/b&gt;, &lt;b&gt;maLLaa&lt;/b&gt; &lt;i&gt;advbl. particle&lt;/i&gt; &lt;b&gt;1&lt;/b&gt; again. &lt;b&gt;2&lt;/b&gt; but still, and yet, however; &lt;b&gt;tanaku raamaayaNam aNTee nijam katha ani nammakam leedanii&lt;/b&gt;; &lt;b&gt;~ bhaarataanni wiśwasistaananii ceppEEru&lt;/b&gt; he said he did not believe that the Ramayana was a true story, but still he believed in the Mahabharata; &lt;b&gt;nannu tiTTEEDu&lt;/b&gt;, &lt;b&gt;~ neenaNTee aayanaki preema leedani kaadu&lt;/b&gt; he scolded me but that is not to say that he had no love towards me. \\n\\t\\t\\t&lt;/div&gt;</td>\n",
       "    </tr>\n",
       "    <tr>\n",
       "      <th>1365</th>\n",
       "      <td>అప్పటికి</td>\n",
       "      <td>appaṭiki</td>\n",
       "      <td>6</td>\n",
       "      <td>అప్పటికి appaṭiki appaTiki I. adv. 1 by that time. 2 dial. by evening time. II. advbl. n. suffixed to vbl. adj. 1 by the time that; miiru wacceeT ~ neenu akkaDee unnaanu by the time that you came, I was at that very place. 2 since ( = because); miiru uttaram raaseeT ~ aayana ceeyaka tappaleedu since you wrote him a letter, he had to do it without fail.</td>\n",
       "      <td>&lt;div&gt;  \\n\\t\\t\\t\\n\\t\\t\\t&lt;hw&gt;&lt;te&gt;అప్పటికి&lt;/te&gt; appaṭiki&lt;/hw&gt; &lt;b&gt;appaTiki&lt;/b&gt; I. &lt;i&gt;adv&lt;/i&gt;. &lt;b&gt;1&lt;/b&gt; by that time. &lt;b&gt;2&lt;/b&gt; &lt;i&gt;dial&lt;/i&gt;. by evening time. II. &lt;i&gt;advbl. n. suffixed to vbl. adj&lt;/i&gt;. &lt;b&gt;1&lt;/b&gt; by the time that; &lt;b&gt;miiru wacceeT ~ neenu akkaDee unnaanu&lt;/b&gt; by the time that you came, I was at that very place. &lt;b&gt;2&lt;/b&gt; since ( = because); &lt;b&gt;miiru uttaram raaseeT ~ aayana ceeyaka tappaleedu&lt;/b&gt; since you wrote him a letter, he had to do it without fail. \\n\\t\\t\\t&lt;/div&gt;</td>\n",
       "    </tr>\n",
       "    <tr>\n",
       "      <th>20181</th>\n",
       "      <td>మాడు</td>\n",
       "      <td>māḍu</td>\n",
       "      <td>6</td>\n",
       "      <td>మాడు māḍu maaDu2 I. n. food burnt while cooking. II. v.i. 1 to be burnt, be scorched; see pramaaNam sense 2. 2 to become black due to scorching; also fig., e.g., waaDi mokham maaDindi his face grew black (with anger, jealousy or shame). 3 to starve; waaLLu annam leeka maaDi castunnaaru they are starving to death. 4 to be ruined; see aDugumaaDipoowu.</td>\n",
       "      <td>&lt;div&gt;  \\n\\t\\t\\t\\n\\t\\t\\t&lt;hw&gt;&lt;te&gt;మాడు&lt;/te&gt; māḍu&lt;/hw&gt; &lt;b&gt;maaDu&lt;/b&gt;&lt;sup&gt;2&lt;/sup&gt; I. &lt;i&gt;n&lt;/i&gt;. food burnt while cooking. II. &lt;i&gt;v.i&lt;/i&gt;. &lt;b&gt;1&lt;/b&gt; to be burnt, be scorched; &lt;i&gt;see&lt;/i&gt; &lt;b&gt;pramaaNam&lt;/b&gt; &lt;i&gt;sense 2&lt;/i&gt;. &lt;b&gt;2&lt;/b&gt; to become black due to scorching; &lt;i&gt;also fig&lt;/i&gt;., e.g., &lt;b&gt;waaDi mokham maaDindi&lt;/b&gt; his face grew black (with anger, jealousy or shame). &lt;b&gt;3&lt;/b&gt; to starve; &lt;b&gt;waaLLu annam leeka maaDi castunnaaru&lt;/b&gt; they are starving to death. &lt;b&gt;4&lt;/b&gt; to be ruined; &lt;i&gt;see&lt;/i&gt; &lt;b&gt;aDugumaaDipoowu&lt;/b&gt;. \\n\\t\\t\\t&lt;/div&gt;</td>\n",
       "    </tr>\n",
       "    <tr>\n",
       "      <th>12086</th>\n",
       "      <td>తొలి</td>\n",
       "      <td>toli</td>\n",
       "      <td>6</td>\n",
       "      <td>తొలి toli toli I. n. beginning. II. adj. 1 first. 2 old, ancient. 3 former, previous; paNDuga ~ naaDu first day of a festival or the day before a festival. 4 initial; ~ weegam initial velocity.</td>\n",
       "      <td>&lt;div&gt;  \\n\\t\\t\\t\\n\\t\\t\\t&lt;hw&gt;&lt;te&gt;తొలి&lt;/te&gt; toli&lt;/hw&gt; &lt;b&gt;toli&lt;/b&gt; I. &lt;i&gt;n&lt;/i&gt;. beginning. II. &lt;i&gt;adj&lt;/i&gt;. &lt;b&gt;1&lt;/b&gt; first. &lt;b&gt;2&lt;/b&gt; old, ancient. &lt;b&gt;3&lt;/b&gt; former, previous; &lt;b&gt;paNDuga ~ naaDu&lt;/b&gt; first day of a festival &lt;i&gt;or&lt;/i&gt; the day before a festival. &lt;b&gt;4&lt;/b&gt; initial; &lt;b&gt;~ weegam&lt;/b&gt; initial velocity. \\n\\t\\t\\t&lt;/div&gt;</td>\n",
       "    </tr>\n",
       "    <tr>\n",
       "      <th>22139</th>\n",
       "      <td>రేకు</td>\n",
       "      <td>rēku</td>\n",
       "      <td>7</td>\n",
       "      <td>రేకు rēku reeku n. 1 thin sheet, strip or plate of metal; ~ Dabbaa, ~ paatra pot or vessel of tin or other metal; mucci ~ sheet of tinsel; paara ~ blade of a spade. 2 petal. 3 dial. sheet of cloth.</td>\n",
       "      <td>&lt;div&gt;  \\n\\t\\t\\t\\n\\t\\t\\t&lt;hw&gt;&lt;te&gt;రేకు&lt;/te&gt; rēku&lt;/hw&gt; &lt;b&gt;reeku&lt;/b&gt; &lt;i&gt;n&lt;/i&gt;. &lt;b&gt;1&lt;/b&gt; thin sheet, strip or plate of metal; &lt;b&gt;~ Dabbaa&lt;/b&gt;, &lt;b&gt;~ paatra&lt;/b&gt; pot or vessel of tin or other metal; &lt;b&gt;mucci ~&lt;/b&gt; sheet of tinsel; &lt;b&gt;paara ~&lt;/b&gt; blade of a spade. &lt;b&gt;2&lt;/b&gt; petal. &lt;b&gt;3&lt;/b&gt; &lt;i&gt;dial&lt;/i&gt;. sheet of cloth. \\n\\t\\t\\t&lt;/div&gt;</td>\n",
       "    </tr>\n",
       "    <tr>\n",
       "      <th>23440</th>\n",
       "      <td>విచ్ఛిత్తి</td>\n",
       "      <td>vicchitti</td>\n",
       "      <td>7</td>\n",
       "      <td>విచ్ఛిత్తి vicchitti wicchitti n. 1 partition, separation; kuTumba ~ family partition. 2 cutting off, interruption. 3 splitting. 4 sci. fission. 5 garbha ~ abortion, miscarriage.</td>\n",
       "      <td>&lt;div&gt;  \\n\\t\\t\\t\\n\\t\\t\\t&lt;hw&gt;&lt;te&gt;విచ్ఛిత్తి&lt;/te&gt; vicchitti&lt;/hw&gt; &lt;b&gt;wicchitti&lt;/b&gt; &lt;i&gt;n&lt;/i&gt;. &lt;b&gt;1&lt;/b&gt; partition, separation; &lt;b&gt;kuTumba ~&lt;/b&gt; family partition. &lt;b&gt;2&lt;/b&gt; cutting off, interruption. &lt;b&gt;3&lt;/b&gt; splitting. &lt;b&gt;4&lt;/b&gt; &lt;i&gt;sci&lt;/i&gt;. fission. &lt;b&gt;5&lt;/b&gt; &lt;b&gt;garbha ~&lt;/b&gt; abortion, miscarriage. \\n\\t\\t\\t&lt;/div&gt;</td>\n",
       "    </tr>\n",
       "    <tr>\n",
       "      <th>10982</th>\n",
       "      <td>తన్ను</td>\n",
       "      <td>tannu</td>\n",
       "      <td>10</td>\n",
       "      <td>తన్ను tannu tannu I. n. kick, blow, beating; ~ lu tinu to be beaten or thrashed. II. v.i. 1 ega ~, payki ~ to rise up, rear up. force a way up. 2 slang to fail; naa pariikSa tanneesindi I failed my examination. III. v.t. 1 to kick, beat, thrash. 2 to strike against. 3 slang baalcii tanneesEEDu he died.</td>\n",
       "      <td>&lt;div&gt;  \\n\\t\\t\\t\\n\\t\\t\\t&lt;hw&gt;&lt;te&gt;తన్ను&lt;/te&gt; tannu&lt;/hw&gt; &lt;b&gt;tannu&lt;/b&gt; I. &lt;i&gt;n&lt;/i&gt;. kick, blow, beating; &lt;b&gt;~ lu tinu&lt;/b&gt; to be beaten or thrashed. II. &lt;i&gt;v.i&lt;/i&gt;. &lt;b&gt;1&lt;/b&gt; &lt;b&gt;ega ~&lt;/b&gt;, &lt;b&gt;payki ~&lt;/b&gt; to rise up, rear up. force a way up. &lt;b&gt;2&lt;/b&gt; &lt;i&gt;slang&lt;/i&gt; to fail; &lt;b&gt;naa pariikSa tanneesindi&lt;/b&gt; I failed my examination. III. &lt;i&gt;v.t&lt;/i&gt;. &lt;b&gt;1&lt;/b&gt; to kick, beat, thrash. &lt;b&gt;2&lt;/b&gt; to strike against. &lt;b&gt;3&lt;/b&gt; &lt;i&gt;slang&lt;/i&gt; &lt;b&gt;baalcii tanneesEEDu&lt;/b&gt; he died. \\n\\t\\t\\t&lt;/div&gt;</td>\n",
       "    </tr>\n",
       "    <tr>\n",
       "      <th>24406</th>\n",
       "      <td>వేయు</td>\n",
       "      <td>vēyu</td>\n",
       "      <td>39</td>\n",
       "      <td>వేయు vēyu weeyu I. v.i. 1 (of a physical or mental state) to be felt or experienced; naaku aakall/cali weestunnadi I feel hungry/cold; naaku bhayam weestunnadi I am afraid; naaku anumaanam weesindi I felt suspicious. 2 to appear, come on; ceTTu kaaDaku aakuku madhya ciguru weesindi a shoot appeared between the stalk and the leaf of the plant. 3 to collect, gather; mabbu weestunnadi, waana paDutundi clouds are gathering, it is going to rain; isuka meeTa weesindi sand collected into a heap; cf. waraweeyu. II. v.t. 1 to throw. 2 to strike, hit, knock. 3 to place, put. 4 to let fall, drop. 5 to shut; talupu ~ to shut a door; reppa weeyakuNDaa cuucu to stare without closing an eyelid or to stare fixedly. 6 to plant, sow (crop, seed). 7 to appoint; aayanni maa baLLoo kotta pantulugaa weesEEru they appointed him as a new teacher in our school. 8 as an auxiliary ~ is used with a past participle to give intensive force, e.g., aapu (imperative) stop! aapiweeyi! or aapeeyi! stop! (emphatic); tinu to eat; tini ~ to eat up, devour. 9 ~ is used idiomatically with a wide range of meanings which vary according to the context, e.g., illu ~ (i) to thatch a house; (ii) to build a house; citram ~ to paint a picture; naaTakam ~ to enact a play; pathakaalu ~ to draw up or make plans; baNDi ~ to ply a cart for hire; praśnalu ~ to put questions; layT ~ to turn on a light; gantulu ~ to leap; Tiikaalu ~ to inoculate; baaNam ~ to shoot an arrow; aawu duuDa weesindi the cow calved; reNDu aDugulu wenakaki weesEEDu he took two steps backwards; lekkalu weesEEDu he added up (or he worked out) the account; oTTu weesEEDu he promised on oath; naatoo pandem weesEEDu he made a bet with me or he challenged me; injin kuuta weesindi the engine sounded its siren; see also weesukonu.</td>\n",
       "      <td>&lt;div&gt;  \\n\\t\\t\\t\\n\\t\\t\\t&lt;hw&gt;&lt;te&gt;వేయు&lt;/te&gt; vēyu&lt;/hw&gt; &lt;b&gt;weeyu&lt;/b&gt; I. &lt;i&gt;v.i&lt;/i&gt;. &lt;b&gt;1&lt;/b&gt; (of a physical or mental state) to be felt or experienced; &lt;b&gt;naaku aakall/cali weestunnadi&lt;/b&gt; I feel hungry/cold; &lt;b&gt;naaku bhayam weestunnadi&lt;/b&gt; I am afraid; &lt;b&gt;naaku anumaanam weesindi&lt;/b&gt; I felt suspicious. &lt;b&gt;2&lt;/b&gt; to appear, come on; &lt;b&gt;ceTTu kaaDaku aakuku madhya ciguru weesindi&lt;/b&gt; a shoot appeared between the stalk and the leaf of the plant. &lt;b&gt;3&lt;/b&gt; to collect, gather; &lt;b&gt;mabbu weestunnadi&lt;/b&gt;, &lt;b&gt;waana paDutundi&lt;/b&gt; clouds are gathering, it is going to rain; &lt;b&gt;isuka meeTa weesindi&lt;/b&gt; sand collected into a heap; &lt;i&gt;cf&lt;/i&gt;. &lt;b&gt;waraweeyu&lt;/b&gt;. II. &lt;i&gt;v.t&lt;/i&gt;. &lt;b&gt;1&lt;/b&gt; to throw. &lt;b&gt;2&lt;/b&gt; to strike, hit, knock. &lt;b&gt;3&lt;/b&gt; to place, put. &lt;b&gt;4&lt;/b&gt; to let fall, drop. &lt;b&gt;5&lt;/b&gt; to shut; &lt;b&gt;talupu ~&lt;/b&gt; to shut a door; &lt;b&gt;reppa weeyakuNDaa cuucu&lt;/b&gt; to stare without closing an eyelid &lt;i&gt;or&lt;/i&gt; to stare fixedly. &lt;b&gt;6&lt;/b&gt; to plant, sow (crop, seed). &lt;b&gt;7&lt;/b&gt; to appoint; &lt;b&gt;aayanni maa baLLoo kotta pantulugaa weesEEru&lt;/b&gt; they appointed him as a new teacher in our school. &lt;b&gt;8&lt;/b&gt; &lt;i&gt;as an auxiliary ~ is used with a past participle to give intensive force&lt;/i&gt;, e.g., &lt;b&gt;aapu&lt;/b&gt; (imperative) stop! &lt;b&gt;aapiweeyi!&lt;/b&gt; &lt;i&gt;or&lt;/i&gt; &lt;b&gt;aapeeyi!&lt;/b&gt; stop! (emphatic); &lt;b&gt;tinu&lt;/b&gt; to eat; &lt;b&gt;tini ~&lt;/b&gt; to eat up, devour. &lt;b&gt;9 ~&lt;/b&gt; &lt;i&gt;is used idiomatically with a wide range of meanings which vary according to the context&lt;/i&gt;, e.g., &lt;b&gt;illu ~&lt;/b&gt; (i) to thatch a house; (ii) to build a house; &lt;b&gt;citram ~&lt;/b&gt; to paint a picture; &lt;b&gt;naaTakam ~&lt;/b&gt; to enact a play; &lt;b&gt;pathakaalu ~&lt;/b&gt; to draw up or make plans; &lt;b&gt;baNDi ~&lt;/b&gt; to ply a cart for hire; &lt;b&gt;praśnalu ~&lt;/b&gt; to put questions; &lt;b&gt;layT ~&lt;/b&gt; to turn on a light; &lt;b&gt;gantulu ~&lt;/b&gt; to leap; &lt;b&gt;Tiikaalu ~&lt;/b&gt; to inoculate; &lt;b&gt;baaNam ~&lt;/b&gt; to shoot an arrow; &lt;b&gt;aawu duuDa weesindi&lt;/b&gt; the cow calved; &lt;b&gt;reNDu aDugulu wenakaki weesEEDu&lt;/b&gt; he took two steps backwards; &lt;b&gt;lekkalu weesEEDu&lt;/b&gt; he added up (&lt;i&gt;or&lt;/i&gt; he worked out) the account; &lt;b&gt;oTTu weesEEDu&lt;/b&gt; he promised on oath; &lt;b&gt;naatoo pandem weesEEDu&lt;/b&gt; he made a bet with me &lt;i&gt;or&lt;/i&gt; he challenged me; &lt;b&gt;injin kuuta weesindi&lt;/b&gt; the engine sounded its siren; &lt;i&gt;see also&lt;/i&gt; &lt;b&gt;weesukonu&lt;/b&gt;. \\n\\t\\t\\t&lt;/div&gt;</td>\n",
       "    </tr>\n",
       "  </tbody>\n",
       "</table>\n",
       "</div>"
      ],
      "text/plain": [
       "            telugu transliteration  subentry_count  \\\n",
       "15734  పరిభ్రమించు   paribhramiñcu               5   \n",
       "26436         సాఫు    ,sāphu, sāpu               5   \n",
       "20008        మళ్లీ   ,maḷlī, maḷlā               6   \n",
       "1365      అప్పటికి        appaṭiki               6   \n",
       "20181         మాడు            māḍu               6   \n",
       "12086         తొలి            toli               6   \n",
       "22139         రేకు            rēku               7   \n",
       "23440   విచ్ఛిత్తి       vicchitti               7   \n",
       "10982        తన్ను           tannu              10   \n",
       "24406         వేయు            vēyu              39   \n",
       "\n",
       "                                                                                                                                                                                                                                                                                                                                                                                                                                                                                                                                                                                                                                                                                                                                                                                                                                                                                                                                                                                                                                                                                                                                                                                                                                                                                                                                                                                                                                                                                                                                                                                                                                                                                                                                                                                                                                               text  \\\n",
       "15734                                                                                                                                                                                                                                                                                                                                                                                                                                                                                                                                                                                                                                                                                                                                                                                                                                                                                                                                                                                                                                                                                                                                                                                                                                                                                                                                                                                                                                                                                                                                                                                                                                              పరిభ్రమించు paribhramiñcu paribhramincu v.i. 1 to revolve, circle round. 2 to rotate, gyrate. 3 to wander about, go from place to place. 4 waaDi mati paribhramincindi his mind became unstable.   \n",
       "26436                                                                                                                                                                                                                                                                                                                                                                                                                                                                                                                                                                                                                                                                                                                                                                                                                                                                                                                                                                                                                                                                                                                                                                                                                                                                                                                                                                                                                                                                                                                                                                                                                                                    సాఫు, సాపు sāphu, sāpu saaphu, saapu I. n. (also ~ prati) fair copy of s.g written. II. adj. 1 smooth, not wrinkled. 2 straight, ~ gaa niDupugaa unnakarra a long straight stick. 3 level.   \n",
       "20008                                                                                                                                                                                                                                                                                                                                                                                                                                                                                                                                                                                                                                                                                                                                                                                                                                                                                                                                                                                                                                                                                                                                                                                                                                                                                                                                                                                                 మళ్లీ, మళ్లా maḷlī, maḷlā maLLii, maLLaa advbl. particle 1 again. 2 but still, and yet, however; tanaku raamaayaNam aNTee nijam katha ani nammakam leedanii; ~ bhaarataanni wiśwasistaananii ceppEEru he said he did not believe that the Ramayana was a true story, but still he believed in the Mahabharata; nannu tiTTEEDu, ~ neenaNTee aayanaki preema leedani kaadu he scolded me but that is not to say that he had no love towards me.   \n",
       "1365                                                                                                                                                                                                                                                                                                                                                                                                                                                                                                                                                                                                                                                                                                                                                                                                                                                                                                                                                                                                                                                                                                                                                                                                                                                                                                                                                                                                                                                                             అప్పటికి appaṭiki appaTiki I. adv. 1 by that time. 2 dial. by evening time. II. advbl. n. suffixed to vbl. adj. 1 by the time that; miiru wacceeT ~ neenu akkaDee unnaanu by the time that you came, I was at that very place. 2 since ( = because); miiru uttaram raaseeT ~ aayana ceeyaka tappaleedu since you wrote him a letter, he had to do it without fail.   \n",
       "20181                                                                                                                                                                                                                                                                                                                                                                                                                                                                                                                                                                                                                                                                                                                                                                                                                                                                                                                                                                                                                                                                                                                                                                                                                                                                                                                                                                                                                                                                               మాడు māḍu maaDu2 I. n. food burnt while cooking. II. v.i. 1 to be burnt, be scorched; see pramaaNam sense 2. 2 to become black due to scorching; also fig., e.g., waaDi mokham maaDindi his face grew black (with anger, jealousy or shame). 3 to starve; waaLLu annam leeka maaDi castunnaaru they are starving to death. 4 to be ruined; see aDugumaaDipoowu.   \n",
       "12086                                                                                                                                                                                                                                                                                                                                                                                                                                                                                                                                                                                                                                                                                                                                                                                                                                                                                                                                                                                                                                                                                                                                                                                                                                                                                                                                                                                                                                                                                                                                                                                                                                             తొలి toli toli I. n. beginning. II. adj. 1 first. 2 old, ancient. 3 former, previous; paNDuga ~ naaDu first day of a festival or the day before a festival. 4 initial; ~ weegam initial velocity.   \n",
       "22139                                                                                                                                                                                                                                                                                                                                                                                                                                                                                                                                                                                                                                                                                                                                                                                                                                                                                                                                                                                                                                                                                                                                                                                                                                                                                                                                                                                                                                                                                                                                                                                                                                         రేకు rēku reeku n. 1 thin sheet, strip or plate of metal; ~ Dabbaa, ~ paatra pot or vessel of tin or other metal; mucci ~ sheet of tinsel; paara ~ blade of a spade. 2 petal. 3 dial. sheet of cloth.   \n",
       "23440                                                                                                                                                                                                                                                                                                                                                                                                                                                                                                                                                                                                                                                                                                                                                                                                                                                                                                                                                                                                                                                                                                                                                                                                                                                                                                                                                                                                                                                                                                                                                                                                                                                            విచ్ఛిత్తి vicchitti wicchitti n. 1 partition, separation; kuTumba ~ family partition. 2 cutting off, interruption. 3 splitting. 4 sci. fission. 5 garbha ~ abortion, miscarriage.   \n",
       "10982                                                                                                                                                                                                                                                                                                                                                                                                                                                                                                                                                                                                                                                                                                                                                                                                                                                                                                                                                                                                                                                                                                                                                                                                                                                                                                                                                                                                                                                                                                                               తన్ను tannu tannu I. n. kick, blow, beating; ~ lu tinu to be beaten or thrashed. II. v.i. 1 ega ~, payki ~ to rise up, rear up. force a way up. 2 slang to fail; naa pariikSa tanneesindi I failed my examination. III. v.t. 1 to kick, beat, thrash. 2 to strike against. 3 slang baalcii tanneesEEDu he died.   \n",
       "24406  వేయు vēyu weeyu I. v.i. 1 (of a physical or mental state) to be felt or experienced; naaku aakall/cali weestunnadi I feel hungry/cold; naaku bhayam weestunnadi I am afraid; naaku anumaanam weesindi I felt suspicious. 2 to appear, come on; ceTTu kaaDaku aakuku madhya ciguru weesindi a shoot appeared between the stalk and the leaf of the plant. 3 to collect, gather; mabbu weestunnadi, waana paDutundi clouds are gathering, it is going to rain; isuka meeTa weesindi sand collected into a heap; cf. waraweeyu. II. v.t. 1 to throw. 2 to strike, hit, knock. 3 to place, put. 4 to let fall, drop. 5 to shut; talupu ~ to shut a door; reppa weeyakuNDaa cuucu to stare without closing an eyelid or to stare fixedly. 6 to plant, sow (crop, seed). 7 to appoint; aayanni maa baLLoo kotta pantulugaa weesEEru they appointed him as a new teacher in our school. 8 as an auxiliary ~ is used with a past participle to give intensive force, e.g., aapu (imperative) stop! aapiweeyi! or aapeeyi! stop! (emphatic); tinu to eat; tini ~ to eat up, devour. 9 ~ is used idiomatically with a wide range of meanings which vary according to the context, e.g., illu ~ (i) to thatch a house; (ii) to build a house; citram ~ to paint a picture; naaTakam ~ to enact a play; pathakaalu ~ to draw up or make plans; baNDi ~ to ply a cart for hire; praśnalu ~ to put questions; layT ~ to turn on a light; gantulu ~ to leap; Tiikaalu ~ to inoculate; baaNam ~ to shoot an arrow; aawu duuDa weesindi the cow calved; reNDu aDugulu wenakaki weesEEDu he took two steps backwards; lekkalu weesEEDu he added up (or he worked out) the account; oTTu weesEEDu he promised on oath; naatoo pandem weesEEDu he made a bet with me or he challenged me; injin kuuta weesindi the engine sounded its siren; see also weesukonu.   \n",
       "\n",
       "                                                                                                                                                                                                                                                                                                                                                                                                                                                                                                                                                                                                                                                                                                                                                                                                                                                                                                                                                                                                                                                                                                                                                                                                                                                                                                                                                                                                                                                                                                                                                                                                                                                                                                                                                                                                                                                                                                                                                                                                                                                                                                                                                                                                                                                                                                               html  \n",
       "15734                                                                                                                                                                                                                                                                                                                                                                                                                                                                                                                                                                                                                                                                                                                                                                                                                                                                                                                                                                                                                                                                                                                                                                                                                                                                                                                                                                                                                                                                                                                                                                                                                                                                                                                                                                                                                                                                                                                                                                                                     <div>  \\n\\t\\t\\t\\n\\t\\t\\t<hw><te>పరిభ్రమించు</te> paribhramiñcu</hw> <b>paribhramincu</b> <i>v.i</i>. <b>1</b> to revolve, circle round. <b>2</b> to rotate, gyrate. <b>3</b> to wander about, go from place to place. <b>4</b> <b>waaDi mati paribhramincindi</b> his mind became unstable. \\n\\t\\t\\t</div>  \n",
       "26436                                                                                                                                                                                                                                                                                                                                                                                                                                                                                                                                                                                                                                                                                                                                                                                                                                                                                                                                                                                                                                                                                                                                                                                                                                                                                                                                                                                                                                                                                                                                                                                                                                                                                                                                                                                                                                                                                                                                                                             <div>  \\n\\t\\t\\t\\n\\t\\t\\t<hw><te>సాఫు</te>, <te>సాపు</te> sāphu, sāpu</hw> <b>saaphu</b>, <b>saapu</b> I. <i>n</i>. (<i>also</i> <b>~ prati</b>) fair copy of s.g written. II. <i>adj</i>. <b>1</b> smooth, not wrinkled. <b>2</b> straight, <b>~ gaa niDupugaa unnakarra</b> a long straight stick. <b>3</b> level. \\n\\t\\t\\t</div>  \n",
       "20008                                                                                                                                                                                                                                                                                                                                                                                                                                                                                                                                                                                                                                                                                                                                                                                                                                                                                                                                                                                                                                                                                                                                                                                                                                                                                                                                                                                                                                                                                                                                                                                                                                                                                                                                 <div>  \\n\\t\\t\\t\\n\\t\\t\\t<hw><te>మళ్లీ</te>, <te>మళ్లా</te> maḷlī, maḷlā</hw> <b>maLLii</b>, <b>maLLaa</b> <i>advbl. particle</i> <b>1</b> again. <b>2</b> but still, and yet, however; <b>tanaku raamaayaNam aNTee nijam katha ani nammakam leedanii</b>; <b>~ bhaarataanni wiśwasistaananii ceppEEru</b> he said he did not believe that the Ramayana was a true story, but still he believed in the Mahabharata; <b>nannu tiTTEEDu</b>, <b>~ neenaNTee aayanaki preema leedani kaadu</b> he scolded me but that is not to say that he had no love towards me. \\n\\t\\t\\t</div>  \n",
       "1365                                                                                                                                                                                                                                                                                                                                                                                                                                                                                                                                                                                                                                                                                                                                                                                                                                                                                                                                                                                                                                                                                                                                                                                                                                                                                                                                                                                                                                                                                                                                                                                                                                                                                                                                                                                                               <div>  \\n\\t\\t\\t\\n\\t\\t\\t<hw><te>అప్పటికి</te> appaṭiki</hw> <b>appaTiki</b> I. <i>adv</i>. <b>1</b> by that time. <b>2</b> <i>dial</i>. by evening time. II. <i>advbl. n. suffixed to vbl. adj</i>. <b>1</b> by the time that; <b>miiru wacceeT ~ neenu akkaDee unnaanu</b> by the time that you came, I was at that very place. <b>2</b> since ( = because); <b>miiru uttaram raaseeT ~ aayana ceeyaka tappaleedu</b> since you wrote him a letter, he had to do it without fail. \\n\\t\\t\\t</div>  \n",
       "20181                                                                                                                                                                                                                                                                                                                                                                                                                                                                                                                                                                                                                                                                                                                                                                                                                                                                                                                                                                                                                                                                                                                                                                                                                                                                                                                                                                                                                                                                                                                                                                                                                                                                                                                                                                   <div>  \\n\\t\\t\\t\\n\\t\\t\\t<hw><te>మాడు</te> māḍu</hw> <b>maaDu</b><sup>2</sup> I. <i>n</i>. food burnt while cooking. II. <i>v.i</i>. <b>1</b> to be burnt, be scorched; <i>see</i> <b>pramaaNam</b> <i>sense 2</i>. <b>2</b> to become black due to scorching; <i>also fig</i>., e.g., <b>waaDi mokham maaDindi</b> his face grew black (with anger, jealousy or shame). <b>3</b> to starve; <b>waaLLu annam leeka maaDi castunnaaru</b> they are starving to death. <b>4</b> to be ruined; <i>see</i> <b>aDugumaaDipoowu</b>. \\n\\t\\t\\t</div>  \n",
       "12086                                                                                                                                                                                                                                                                                                                                                                                                                                                                                                                                                                                                                                                                                                                                                                                                                                                                                                                                                                                                                                                                                                                                                                                                                                                                                                                                                                                                                                                                                                                                                                                                                                                                                                                                                                                                                                                                                                                                                                               <div>  \\n\\t\\t\\t\\n\\t\\t\\t<hw><te>తొలి</te> toli</hw> <b>toli</b> I. <i>n</i>. beginning. II. <i>adj</i>. <b>1</b> first. <b>2</b> old, ancient. <b>3</b> former, previous; <b>paNDuga ~ naaDu</b> first day of a festival <i>or</i> the day before a festival. <b>4</b> initial; <b>~ weegam</b> initial velocity. \\n\\t\\t\\t</div>  \n",
       "22139                                                                                                                                                                                                                                                                                                                                                                                                                                                                                                                                                                                                                                                                                                                                                                                                                                                                                                                                                                                                                                                                                                                                                                                                                                                                                                                                                                                                                                                                                                                                                                                                                                                                                                                                                                                                                                                                                                                                                                           <div>  \\n\\t\\t\\t\\n\\t\\t\\t<hw><te>రేకు</te> rēku</hw> <b>reeku</b> <i>n</i>. <b>1</b> thin sheet, strip or plate of metal; <b>~ Dabbaa</b>, <b>~ paatra</b> pot or vessel of tin or other metal; <b>mucci ~</b> sheet of tinsel; <b>paara ~</b> blade of a spade. <b>2</b> petal. <b>3</b> <i>dial</i>. sheet of cloth. \\n\\t\\t\\t</div>  \n",
       "23440                                                                                                                                                                                                                                                                                                                                                                                                                                                                                                                                                                                                                                                                                                                                                                                                                                                                                                                                                                                                                                                                                                                                                                                                                                                                                                                                                                                                                                                                                                                                                                                                                                                                                                                                                                                                                                                                                                                                                                                              <div>  \\n\\t\\t\\t\\n\\t\\t\\t<hw><te>విచ్ఛిత్తి</te> vicchitti</hw> <b>wicchitti</b> <i>n</i>. <b>1</b> partition, separation; <b>kuTumba ~</b> family partition. <b>2</b> cutting off, interruption. <b>3</b> splitting. <b>4</b> <i>sci</i>. fission. <b>5</b> <b>garbha ~</b> abortion, miscarriage. \\n\\t\\t\\t</div>  \n",
       "10982                                                                                                                                                                                                                                                                                                                                                                                                                                                                                                                                                                                                                                                                                                                                                                                                                                                                                                                                                                                                                                                                                                                                                                                                                                                                                                                                                                                                                                                                                                                                                                                                                                                                                                                                                                                                                       <div>  \\n\\t\\t\\t\\n\\t\\t\\t<hw><te>తన్ను</te> tannu</hw> <b>tannu</b> I. <i>n</i>. kick, blow, beating; <b>~ lu tinu</b> to be beaten or thrashed. II. <i>v.i</i>. <b>1</b> <b>ega ~</b>, <b>payki ~</b> to rise up, rear up. force a way up. <b>2</b> <i>slang</i> to fail; <b>naa pariikSa tanneesindi</b> I failed my examination. III. <i>v.t</i>. <b>1</b> to kick, beat, thrash. <b>2</b> to strike against. <b>3</b> <i>slang</i> <b>baalcii tanneesEEDu</b> he died. \\n\\t\\t\\t</div>  \n",
       "24406  <div>  \\n\\t\\t\\t\\n\\t\\t\\t<hw><te>వేయు</te> vēyu</hw> <b>weeyu</b> I. <i>v.i</i>. <b>1</b> (of a physical or mental state) to be felt or experienced; <b>naaku aakall/cali weestunnadi</b> I feel hungry/cold; <b>naaku bhayam weestunnadi</b> I am afraid; <b>naaku anumaanam weesindi</b> I felt suspicious. <b>2</b> to appear, come on; <b>ceTTu kaaDaku aakuku madhya ciguru weesindi</b> a shoot appeared between the stalk and the leaf of the plant. <b>3</b> to collect, gather; <b>mabbu weestunnadi</b>, <b>waana paDutundi</b> clouds are gathering, it is going to rain; <b>isuka meeTa weesindi</b> sand collected into a heap; <i>cf</i>. <b>waraweeyu</b>. II. <i>v.t</i>. <b>1</b> to throw. <b>2</b> to strike, hit, knock. <b>3</b> to place, put. <b>4</b> to let fall, drop. <b>5</b> to shut; <b>talupu ~</b> to shut a door; <b>reppa weeyakuNDaa cuucu</b> to stare without closing an eyelid <i>or</i> to stare fixedly. <b>6</b> to plant, sow (crop, seed). <b>7</b> to appoint; <b>aayanni maa baLLoo kotta pantulugaa weesEEru</b> they appointed him as a new teacher in our school. <b>8</b> <i>as an auxiliary ~ is used with a past participle to give intensive force</i>, e.g., <b>aapu</b> (imperative) stop! <b>aapiweeyi!</b> <i>or</i> <b>aapeeyi!</b> stop! (emphatic); <b>tinu</b> to eat; <b>tini ~</b> to eat up, devour. <b>9 ~</b> <i>is used idiomatically with a wide range of meanings which vary according to the context</i>, e.g., <b>illu ~</b> (i) to thatch a house; (ii) to build a house; <b>citram ~</b> to paint a picture; <b>naaTakam ~</b> to enact a play; <b>pathakaalu ~</b> to draw up or make plans; <b>baNDi ~</b> to ply a cart for hire; <b>praśnalu ~</b> to put questions; <b>layT ~</b> to turn on a light; <b>gantulu ~</b> to leap; <b>Tiikaalu ~</b> to inoculate; <b>baaNam ~</b> to shoot an arrow; <b>aawu duuDa weesindi</b> the cow calved; <b>reNDu aDugulu wenakaki weesEEDu</b> he took two steps backwards; <b>lekkalu weesEEDu</b> he added up (<i>or</i> he worked out) the account; <b>oTTu weesEEDu</b> he promised on oath; <b>naatoo pandem weesEEDu</b> he made a bet with me <i>or</i> he challenged me; <b>injin kuuta weesindi</b> the engine sounded its siren; <i>see also</i> <b>weesukonu</b>. \\n\\t\\t\\t</div>  "
      ]
     },
     "execution_count": 44,
     "metadata": {},
     "output_type": "execute_result"
    }
   ],
   "source": [
    "sorted_entries[sorted_entries.subentry_count > 4].sample(10).sort_values('subentry_count')"
   ]
  },
  {
   "cell_type": "code",
   "execution_count": 39,
   "metadata": {},
   "outputs": [
    {
     "data": {
      "text/plain": [
       "19    0.001807\n",
       "18    0.002132\n",
       "17    0.002349\n",
       "16    0.002855\n",
       "15    0.003397\n",
       "14    0.004047\n",
       "13    0.004625\n",
       "12    0.005565\n",
       "11    0.007408\n",
       "10    0.009793\n",
       "9     0.012322\n",
       "8     0.015249\n",
       "7     0.020886\n",
       "6     0.029450\n",
       "5     0.045566\n",
       "4     0.074872\n",
       "3     0.137421\n",
       "2     0.274590\n",
       "1     0.386283\n",
       "0     1.000000\n",
       "Name: subentry_count, dtype: float64"
      ]
     },
     "execution_count": 39,
     "metadata": {},
     "output_type": "execute_result"
    }
   ],
   "source": [
    "sorted_entries.subentry_count.value_counts().sort_index(ascending=False).pipe(lambda x: x/x.sum()).cumsum()[-20:]"
   ]
  },
  {
   "cell_type": "code",
   "execution_count": 45,
   "metadata": {},
   "outputs": [],
   "source": [
    "with open('telugu_entries.html', 'w') as outfile:\n",
    "\n",
    "    for html in sorted_entries[sorted_entries.subentry_count >= 4].html:\n",
    "        outfile.write(f'<div>{html}</div><br/>')\n"
   ]
  }
 ],
 "metadata": {
  "kernelspec": {
   "display_name": "conda-forge",
   "language": "python",
   "name": "conda-forge"
  },
  "language_info": {
   "codemirror_mode": {
    "name": "ipython",
    "version": 3
   },
   "file_extension": ".py",
   "mimetype": "text/x-python",
   "name": "python",
   "nbconvert_exporter": "python",
   "pygments_lexer": "ipython3",
   "version": "3.9.7"
  }
 },
 "nbformat": 4,
 "nbformat_minor": 2
}
